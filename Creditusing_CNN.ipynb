{
 "cells": [
  {
   "cell_type": "code",
   "execution_count": 1,
   "id": "deluxe-compound",
   "metadata": {
    "_cell_guid": "b1076dfc-b9ad-4769-8c92-a6c4dae69d19",
    "_uuid": "8f2839f25d086af736a60e9eeb907d3b93b6e0e5",
    "execution": {
     "iopub.execute_input": "2022-08-31T16:52:14.582795Z",
     "iopub.status.busy": "2022-08-31T16:52:14.581983Z",
     "iopub.status.idle": "2022-08-31T16:52:22.524470Z",
     "shell.execute_reply": "2022-08-31T16:52:22.523752Z",
     "shell.execute_reply.started": "2021-06-06T17:05:27.541630Z"
    },
    "papermill": {
     "duration": 7.997106,
     "end_time": "2022-08-31T16:52:22.524705",
     "exception": false,
     "start_time": "2022-08-31T16:52:14.527599",
     "status": "completed"
    },
    "tags": []
   },
   "outputs": [
    {
     "name": "stdout",
     "output_type": "stream",
     "text": [
      "/kaggle/input/creditcardfraud/creditcard.csv\n"
     ]
    }
   ],
   "source": [
    "# This Python 3 environment comes with many helpful analytics libraries installed\n",
    "# It is defined by the kaggle/python Docker image: https://github.com/kaggle/docker-python\n",
    "# For example, here's several helpful packages to load\n",
    "\n",
    "import numpy as np # linear algebra\n",
    "import pandas as pd # data processing, CSV file I/O (e.g. pd.read_csv)\n",
    "\n",
    "import tensorflow as tf\n",
    "from tensorflow import keras\n",
    "from tensorflow.keras import Sequential\n",
    "from tensorflow.keras.layers import Flatten, Dense, Dropout, BatchNormalization\n",
    "from tensorflow.keras.layers import Conv1D, MaxPool1D\n",
    "from tensorflow.keras.optimizers import Adam\n",
    "\n",
    "import seaborn as sns\n",
    "import matplotlib.pyplot as plt\n",
    "from sklearn.model_selection import train_test_split\n",
    "from sklearn.preprocessing import StandardScaler    # in order to scale data\n",
    "from sklearn.metrics import classification_report,accuracy_score\n",
    "\n",
    "\n",
    "import warnings as wr\n",
    "wr.filterwarnings(\"ignore\")\n",
    "\n",
    "# Input data files are available in the read-only \"../input/\" directory\n",
    "# For example, running this (by clicking run or pressing Shift+Enter) will list all files under the input directory\n",
    "\n",
    "import os\n",
    "for dirname, _, filenames in os.walk('/kaggle/input'):\n",
    "    for filename in filenames:\n",
    "        print(os.path.join(dirname, filename))\n",
    "\n",
    "# You can write up to 20GB to the current directory (/kaggle/working/) that gets preserved as output when you create a version using \"Save & Run All\" \n",
    "# You can also write temporary files to /kaggle/temp/, but they won't be saved outside of the current session"
   ]
  },
  {
   "cell_type": "markdown",
   "id": "informal-dylan",
   "metadata": {
    "papermill": {
     "duration": 0.041032,
     "end_time": "2022-08-31T16:52:22.605927",
     "exception": false,
     "start_time": "2022-08-31T16:52:22.564895",
     "status": "completed"
    },
    "tags": []
   },
   "source": [
    "* 492 frauds out of 284,807 transactions\n",
    "* features V1 - V28 are a result of the PCA transformation and are simply numerical representations\n",
    "* \"Amount\" is the value in dollars of the transaction\n",
    "* \"Time\" variable is the amount of time that passed from the time when the first transaction took place.\n",
    "* Fraud = 1 , Not Fraud = 0\n"
   ]
  },
  {
   "cell_type": "code",
   "execution_count": 2,
   "id": "cosmetic-nickel",
   "metadata": {
    "execution": {
     "iopub.execute_input": "2022-08-31T16:52:22.692272Z",
     "iopub.status.busy": "2022-08-31T16:52:22.691524Z",
     "iopub.status.idle": "2022-08-31T16:52:28.267964Z",
     "shell.execute_reply": "2022-08-31T16:52:28.267325Z",
     "shell.execute_reply.started": "2021-06-06T17:05:34.297100Z"
    },
    "papermill": {
     "duration": 5.621409,
     "end_time": "2022-08-31T16:52:28.268150",
     "exception": false,
     "start_time": "2022-08-31T16:52:22.646741",
     "status": "completed"
    },
    "tags": []
   },
   "outputs": [
    {
     "data": {
      "text/html": [
       "<div>\n",
       "<style scoped>\n",
       "    .dataframe tbody tr th:only-of-type {\n",
       "        vertical-align: middle;\n",
       "    }\n",
       "\n",
       "    .dataframe tbody tr th {\n",
       "        vertical-align: top;\n",
       "    }\n",
       "\n",
       "    .dataframe thead th {\n",
       "        text-align: right;\n",
       "    }\n",
       "</style>\n",
       "<table border=\"1\" class=\"dataframe\">\n",
       "  <thead>\n",
       "    <tr style=\"text-align: right;\">\n",
       "      <th></th>\n",
       "      <th>Time</th>\n",
       "      <th>V1</th>\n",
       "      <th>V2</th>\n",
       "      <th>V3</th>\n",
       "      <th>V4</th>\n",
       "      <th>V5</th>\n",
       "      <th>V6</th>\n",
       "      <th>V7</th>\n",
       "      <th>V8</th>\n",
       "      <th>V9</th>\n",
       "      <th>...</th>\n",
       "      <th>V21</th>\n",
       "      <th>V22</th>\n",
       "      <th>V23</th>\n",
       "      <th>V24</th>\n",
       "      <th>V25</th>\n",
       "      <th>V26</th>\n",
       "      <th>V27</th>\n",
       "      <th>V28</th>\n",
       "      <th>Amount</th>\n",
       "      <th>Class</th>\n",
       "    </tr>\n",
       "  </thead>\n",
       "  <tbody>\n",
       "    <tr>\n",
       "      <th>0</th>\n",
       "      <td>0.0</td>\n",
       "      <td>-1.359807</td>\n",
       "      <td>-0.072781</td>\n",
       "      <td>2.536347</td>\n",
       "      <td>1.378155</td>\n",
       "      <td>-0.338321</td>\n",
       "      <td>0.462388</td>\n",
       "      <td>0.239599</td>\n",
       "      <td>0.098698</td>\n",
       "      <td>0.363787</td>\n",
       "      <td>...</td>\n",
       "      <td>-0.018307</td>\n",
       "      <td>0.277838</td>\n",
       "      <td>-0.110474</td>\n",
       "      <td>0.066928</td>\n",
       "      <td>0.128539</td>\n",
       "      <td>-0.189115</td>\n",
       "      <td>0.133558</td>\n",
       "      <td>-0.021053</td>\n",
       "      <td>149.62</td>\n",
       "      <td>0</td>\n",
       "    </tr>\n",
       "    <tr>\n",
       "      <th>1</th>\n",
       "      <td>0.0</td>\n",
       "      <td>1.191857</td>\n",
       "      <td>0.266151</td>\n",
       "      <td>0.166480</td>\n",
       "      <td>0.448154</td>\n",
       "      <td>0.060018</td>\n",
       "      <td>-0.082361</td>\n",
       "      <td>-0.078803</td>\n",
       "      <td>0.085102</td>\n",
       "      <td>-0.255425</td>\n",
       "      <td>...</td>\n",
       "      <td>-0.225775</td>\n",
       "      <td>-0.638672</td>\n",
       "      <td>0.101288</td>\n",
       "      <td>-0.339846</td>\n",
       "      <td>0.167170</td>\n",
       "      <td>0.125895</td>\n",
       "      <td>-0.008983</td>\n",
       "      <td>0.014724</td>\n",
       "      <td>2.69</td>\n",
       "      <td>0</td>\n",
       "    </tr>\n",
       "    <tr>\n",
       "      <th>2</th>\n",
       "      <td>1.0</td>\n",
       "      <td>-1.358354</td>\n",
       "      <td>-1.340163</td>\n",
       "      <td>1.773209</td>\n",
       "      <td>0.379780</td>\n",
       "      <td>-0.503198</td>\n",
       "      <td>1.800499</td>\n",
       "      <td>0.791461</td>\n",
       "      <td>0.247676</td>\n",
       "      <td>-1.514654</td>\n",
       "      <td>...</td>\n",
       "      <td>0.247998</td>\n",
       "      <td>0.771679</td>\n",
       "      <td>0.909412</td>\n",
       "      <td>-0.689281</td>\n",
       "      <td>-0.327642</td>\n",
       "      <td>-0.139097</td>\n",
       "      <td>-0.055353</td>\n",
       "      <td>-0.059752</td>\n",
       "      <td>378.66</td>\n",
       "      <td>0</td>\n",
       "    </tr>\n",
       "    <tr>\n",
       "      <th>3</th>\n",
       "      <td>1.0</td>\n",
       "      <td>-0.966272</td>\n",
       "      <td>-0.185226</td>\n",
       "      <td>1.792993</td>\n",
       "      <td>-0.863291</td>\n",
       "      <td>-0.010309</td>\n",
       "      <td>1.247203</td>\n",
       "      <td>0.237609</td>\n",
       "      <td>0.377436</td>\n",
       "      <td>-1.387024</td>\n",
       "      <td>...</td>\n",
       "      <td>-0.108300</td>\n",
       "      <td>0.005274</td>\n",
       "      <td>-0.190321</td>\n",
       "      <td>-1.175575</td>\n",
       "      <td>0.647376</td>\n",
       "      <td>-0.221929</td>\n",
       "      <td>0.062723</td>\n",
       "      <td>0.061458</td>\n",
       "      <td>123.50</td>\n",
       "      <td>0</td>\n",
       "    </tr>\n",
       "    <tr>\n",
       "      <th>4</th>\n",
       "      <td>2.0</td>\n",
       "      <td>-1.158233</td>\n",
       "      <td>0.877737</td>\n",
       "      <td>1.548718</td>\n",
       "      <td>0.403034</td>\n",
       "      <td>-0.407193</td>\n",
       "      <td>0.095921</td>\n",
       "      <td>0.592941</td>\n",
       "      <td>-0.270533</td>\n",
       "      <td>0.817739</td>\n",
       "      <td>...</td>\n",
       "      <td>-0.009431</td>\n",
       "      <td>0.798278</td>\n",
       "      <td>-0.137458</td>\n",
       "      <td>0.141267</td>\n",
       "      <td>-0.206010</td>\n",
       "      <td>0.502292</td>\n",
       "      <td>0.219422</td>\n",
       "      <td>0.215153</td>\n",
       "      <td>69.99</td>\n",
       "      <td>0</td>\n",
       "    </tr>\n",
       "  </tbody>\n",
       "</table>\n",
       "<p>5 rows × 31 columns</p>\n",
       "</div>"
      ],
      "text/plain": [
       "   Time        V1        V2        V3        V4        V5        V6        V7  \\\n",
       "0   0.0 -1.359807 -0.072781  2.536347  1.378155 -0.338321  0.462388  0.239599   \n",
       "1   0.0  1.191857  0.266151  0.166480  0.448154  0.060018 -0.082361 -0.078803   \n",
       "2   1.0 -1.358354 -1.340163  1.773209  0.379780 -0.503198  1.800499  0.791461   \n",
       "3   1.0 -0.966272 -0.185226  1.792993 -0.863291 -0.010309  1.247203  0.237609   \n",
       "4   2.0 -1.158233  0.877737  1.548718  0.403034 -0.407193  0.095921  0.592941   \n",
       "\n",
       "         V8        V9  ...       V21       V22       V23       V24       V25  \\\n",
       "0  0.098698  0.363787  ... -0.018307  0.277838 -0.110474  0.066928  0.128539   \n",
       "1  0.085102 -0.255425  ... -0.225775 -0.638672  0.101288 -0.339846  0.167170   \n",
       "2  0.247676 -1.514654  ...  0.247998  0.771679  0.909412 -0.689281 -0.327642   \n",
       "3  0.377436 -1.387024  ... -0.108300  0.005274 -0.190321 -1.175575  0.647376   \n",
       "4 -0.270533  0.817739  ... -0.009431  0.798278 -0.137458  0.141267 -0.206010   \n",
       "\n",
       "        V26       V27       V28  Amount  Class  \n",
       "0 -0.189115  0.133558 -0.021053  149.62      0  \n",
       "1  0.125895 -0.008983  0.014724    2.69      0  \n",
       "2 -0.139097 -0.055353 -0.059752  378.66      0  \n",
       "3 -0.221929  0.062723  0.061458  123.50      0  \n",
       "4  0.502292  0.219422  0.215153   69.99      0  \n",
       "\n",
       "[5 rows x 31 columns]"
      ]
     },
     "execution_count": 2,
     "metadata": {},
     "output_type": "execute_result"
    }
   ],
   "source": [
    "data = pd.read_csv(\"../input/creditcardfraud/creditcard.csv\")\n",
    "data.head(5)"
   ]
  },
  {
   "cell_type": "code",
   "execution_count": 3,
   "id": "mobile-shakespeare",
   "metadata": {
    "execution": {
     "iopub.execute_input": "2022-08-31T16:52:28.351476Z",
     "iopub.status.busy": "2022-08-31T16:52:28.350797Z",
     "iopub.status.idle": "2022-08-31T16:52:28.356111Z",
     "shell.execute_reply": "2022-08-31T16:52:28.356725Z",
     "shell.execute_reply.started": "2021-06-06T17:05:38.840604Z"
    },
    "papermill": {
     "duration": 0.048954,
     "end_time": "2022-08-31T16:52:28.356919",
     "exception": false,
     "start_time": "2022-08-31T16:52:28.307965",
     "status": "completed"
    },
    "tags": []
   },
   "outputs": [
    {
     "data": {
      "text/plain": [
       "(284807, 31)"
      ]
     },
     "execution_count": 3,
     "metadata": {},
     "output_type": "execute_result"
    }
   ],
   "source": [
    "data.shape"
   ]
  },
  {
   "cell_type": "code",
   "execution_count": 4,
   "id": "excess-disclaimer",
   "metadata": {
    "execution": {
     "iopub.execute_input": "2022-08-31T16:52:28.442156Z",
     "iopub.status.busy": "2022-08-31T16:52:28.441493Z",
     "iopub.status.idle": "2022-08-31T16:52:28.468629Z",
     "shell.execute_reply": "2022-08-31T16:52:28.469232Z",
     "shell.execute_reply.started": "2021-06-06T17:05:38.848313Z"
    },
    "papermill": {
     "duration": 0.070537,
     "end_time": "2022-08-31T16:52:28.469448",
     "exception": false,
     "start_time": "2022-08-31T16:52:28.398911",
     "status": "completed"
    },
    "tags": []
   },
   "outputs": [
    {
     "data": {
      "text/plain": [
       "Time      0\n",
       "V1        0\n",
       "V2        0\n",
       "V3        0\n",
       "V4        0\n",
       "V5        0\n",
       "V6        0\n",
       "V7        0\n",
       "V8        0\n",
       "V9        0\n",
       "V10       0\n",
       "V11       0\n",
       "V12       0\n",
       "V13       0\n",
       "V14       0\n",
       "V15       0\n",
       "V16       0\n",
       "V17       0\n",
       "V18       0\n",
       "V19       0\n",
       "V20       0\n",
       "V21       0\n",
       "V22       0\n",
       "V23       0\n",
       "V24       0\n",
       "V25       0\n",
       "V26       0\n",
       "V27       0\n",
       "V28       0\n",
       "Amount    0\n",
       "Class     0\n",
       "dtype: int64"
      ]
     },
     "execution_count": 4,
     "metadata": {},
     "output_type": "execute_result"
    }
   ],
   "source": [
    "data.isnull().sum()"
   ]
  },
  {
   "cell_type": "code",
   "execution_count": 5,
   "id": "standing-violation",
   "metadata": {
    "execution": {
     "iopub.execute_input": "2022-08-31T16:52:28.553890Z",
     "iopub.status.busy": "2022-08-31T16:52:28.553076Z",
     "iopub.status.idle": "2022-08-31T16:52:28.599487Z",
     "shell.execute_reply": "2022-08-31T16:52:28.600093Z",
     "shell.execute_reply.started": "2021-06-06T17:05:38.883191Z"
    },
    "papermill": {
     "duration": 0.090634,
     "end_time": "2022-08-31T16:52:28.600326",
     "exception": false,
     "start_time": "2022-08-31T16:52:28.509692",
     "status": "completed"
    },
    "tags": []
   },
   "outputs": [
    {
     "name": "stdout",
     "output_type": "stream",
     "text": [
      "<class 'pandas.core.frame.DataFrame'>\n",
      "RangeIndex: 284807 entries, 0 to 284806\n",
      "Data columns (total 31 columns):\n",
      " #   Column  Non-Null Count   Dtype  \n",
      "---  ------  --------------   -----  \n",
      " 0   Time    284807 non-null  float64\n",
      " 1   V1      284807 non-null  float64\n",
      " 2   V2      284807 non-null  float64\n",
      " 3   V3      284807 non-null  float64\n",
      " 4   V4      284807 non-null  float64\n",
      " 5   V5      284807 non-null  float64\n",
      " 6   V6      284807 non-null  float64\n",
      " 7   V7      284807 non-null  float64\n",
      " 8   V8      284807 non-null  float64\n",
      " 9   V9      284807 non-null  float64\n",
      " 10  V10     284807 non-null  float64\n",
      " 11  V11     284807 non-null  float64\n",
      " 12  V12     284807 non-null  float64\n",
      " 13  V13     284807 non-null  float64\n",
      " 14  V14     284807 non-null  float64\n",
      " 15  V15     284807 non-null  float64\n",
      " 16  V16     284807 non-null  float64\n",
      " 17  V17     284807 non-null  float64\n",
      " 18  V18     284807 non-null  float64\n",
      " 19  V19     284807 non-null  float64\n",
      " 20  V20     284807 non-null  float64\n",
      " 21  V21     284807 non-null  float64\n",
      " 22  V22     284807 non-null  float64\n",
      " 23  V23     284807 non-null  float64\n",
      " 24  V24     284807 non-null  float64\n",
      " 25  V25     284807 non-null  float64\n",
      " 26  V26     284807 non-null  float64\n",
      " 27  V27     284807 non-null  float64\n",
      " 28  V28     284807 non-null  float64\n",
      " 29  Amount  284807 non-null  float64\n",
      " 30  Class   284807 non-null  int64  \n",
      "dtypes: float64(30), int64(1)\n",
      "memory usage: 67.4 MB\n"
     ]
    }
   ],
   "source": [
    "data.info()"
   ]
  },
  {
   "cell_type": "code",
   "execution_count": 6,
   "id": "twelve-kuwait",
   "metadata": {
    "execution": {
     "iopub.execute_input": "2022-08-31T16:52:28.686448Z",
     "iopub.status.busy": "2022-08-31T16:52:28.685733Z",
     "iopub.status.idle": "2022-08-31T16:52:28.691690Z",
     "shell.execute_reply": "2022-08-31T16:52:28.692296Z",
     "shell.execute_reply.started": "2021-06-06T17:05:38.929137Z"
    },
    "papermill": {
     "duration": 0.05116,
     "end_time": "2022-08-31T16:52:28.692533",
     "exception": false,
     "start_time": "2022-08-31T16:52:28.641373",
     "status": "completed"
    },
    "tags": []
   },
   "outputs": [
    {
     "data": {
      "text/plain": [
       "array([0, 0, 0, ..., 0, 0, 0])"
      ]
     },
     "execution_count": 6,
     "metadata": {},
     "output_type": "execute_result"
    }
   ],
   "source": [
    "data.Class.values"
   ]
  },
  {
   "cell_type": "code",
   "execution_count": 7,
   "id": "interstate-specification",
   "metadata": {
    "execution": {
     "iopub.execute_input": "2022-08-31T16:52:28.778578Z",
     "iopub.status.busy": "2022-08-31T16:52:28.777848Z",
     "iopub.status.idle": "2022-08-31T16:52:28.791509Z",
     "shell.execute_reply": "2022-08-31T16:52:28.790886Z",
     "shell.execute_reply.started": "2021-06-06T17:05:38.938610Z"
    },
    "papermill": {
     "duration": 0.057767,
     "end_time": "2022-08-31T16:52:28.791830",
     "exception": false,
     "start_time": "2022-08-31T16:52:28.734063",
     "status": "completed"
    },
    "tags": []
   },
   "outputs": [
    {
     "data": {
      "text/plain": [
       "0    284315\n",
       "1       492\n",
       "Name: Class, dtype: int64"
      ]
     },
     "execution_count": 7,
     "metadata": {},
     "output_type": "execute_result"
    }
   ],
   "source": [
    "data.Class.value_counts()"
   ]
  },
  {
   "cell_type": "code",
   "execution_count": 8,
   "id": "forward-nashville",
   "metadata": {
    "execution": {
     "iopub.execute_input": "2022-08-31T16:52:28.878600Z",
     "iopub.status.busy": "2022-08-31T16:52:28.877827Z",
     "iopub.status.idle": "2022-08-31T16:52:29.051148Z",
     "shell.execute_reply": "2022-08-31T16:52:29.051771Z",
     "shell.execute_reply.started": "2021-06-06T17:05:38.957021Z"
    },
    "papermill": {
     "duration": 0.2181,
     "end_time": "2022-08-31T16:52:29.051980",
     "exception": false,
     "start_time": "2022-08-31T16:52:28.833880",
     "status": "completed"
    },
    "tags": []
   },
   "outputs": [
    {
     "data": {
      "image/png": "[encoded data removed]",
      "text/plain": [
       "<Figure size 432x360 with 1 Axes>"
      ]
     },
     "metadata": {
      "needs_background": "light"
     },
     "output_type": "display_data"
    }
   ],
   "source": [
    "plt.figure(figsize = (6,5))\n",
    "sns.countplot(data.Class, color = \"orange\")\n",
    "plt.show()"
   ]
  },
  {
   "cell_type": "code",
   "execution_count": 9,
   "id": "scientific-closing",
   "metadata": {
    "execution": {
     "iopub.execute_input": "2022-08-31T16:52:29.141002Z",
     "iopub.status.busy": "2022-08-31T16:52:29.140304Z",
     "iopub.status.idle": "2022-08-31T16:52:34.607752Z",
     "shell.execute_reply": "2022-08-31T16:52:34.608679Z",
     "shell.execute_reply.started": "2021-06-06T17:05:39.125125Z"
    },
    "papermill": {
     "duration": 5.513841,
     "end_time": "2022-08-31T16:52:34.608968",
     "exception": false,
     "start_time": "2022-08-31T16:52:29.095127",
     "status": "completed"
    },
    "tags": []
   },
   "outputs": [
    {
     "data": {
      "image/png": "[encoded data removed]",
      "text/plain": [
       "<Figure size 2160x2160 with 36 Axes>"
      ]
     },
     "metadata": {
      "needs_background": "light"
     },
     "output_type": "display_data"
    }
   ],
   "source": [
    "data.hist(figsize=(30,30))\n",
    "plt.show()"
   ]
  },
  {
   "cell_type": "code",
   "execution_count": 10,
   "id": "express-dairy",
   "metadata": {
    "execution": {
     "iopub.execute_input": "2022-08-31T16:52:34.733884Z",
     "iopub.status.busy": "2022-08-31T16:52:34.733098Z",
     "iopub.status.idle": "2022-08-31T16:52:34.755289Z",
     "shell.execute_reply": "2022-08-31T16:52:34.755843Z",
     "shell.execute_reply.started": "2021-06-06T17:05:44.656582Z"
    },
    "papermill": {
     "duration": 0.081476,
     "end_time": "2022-08-31T16:52:34.756067",
     "exception": false,
     "start_time": "2022-08-31T16:52:34.674591",
     "status": "completed"
    },
    "tags": []
   },
   "outputs": [],
   "source": [
    "fraud = data[data.Class == 1]"
   ]
  },
  {
   "cell_type": "code",
   "execution_count": 11,
   "id": "featured-testimony",
   "metadata": {
    "execution": {
     "iopub.execute_input": "2022-08-31T16:52:34.858417Z",
     "iopub.status.busy": "2022-08-31T16:52:34.857708Z",
     "iopub.status.idle": "2022-08-31T16:52:34.888427Z",
     "shell.execute_reply": "2022-08-31T16:52:34.888949Z",
     "shell.execute_reply.started": "2021-06-06T17:05:44.681114Z"
    },
    "papermill": {
     "duration": 0.085168,
     "end_time": "2022-08-31T16:52:34.889171",
     "exception": false,
     "start_time": "2022-08-31T16:52:34.804003",
     "status": "completed"
    },
    "tags": []
   },
   "outputs": [
    {
     "data": {
      "text/html": [
       "<div>\n",
       "<style scoped>\n",
       "    .dataframe tbody tr th:only-of-type {\n",
       "        vertical-align: middle;\n",
       "    }\n",
       "\n",
       "    .dataframe tbody tr th {\n",
       "        vertical-align: top;\n",
       "    }\n",
       "\n",
       "    .dataframe thead th {\n",
       "        text-align: right;\n",
       "    }\n",
       "</style>\n",
       "<table border=\"1\" class=\"dataframe\">\n",
       "  <thead>\n",
       "    <tr style=\"text-align: right;\">\n",
       "      <th></th>\n",
       "      <th>Time</th>\n",
       "      <th>V1</th>\n",
       "      <th>V2</th>\n",
       "      <th>V3</th>\n",
       "      <th>V4</th>\n",
       "      <th>V5</th>\n",
       "      <th>V6</th>\n",
       "      <th>V7</th>\n",
       "      <th>V8</th>\n",
       "      <th>V9</th>\n",
       "      <th>...</th>\n",
       "      <th>V21</th>\n",
       "      <th>V22</th>\n",
       "      <th>V23</th>\n",
       "      <th>V24</th>\n",
       "      <th>V25</th>\n",
       "      <th>V26</th>\n",
       "      <th>V27</th>\n",
       "      <th>V28</th>\n",
       "      <th>Amount</th>\n",
       "      <th>Class</th>\n",
       "    </tr>\n",
       "  </thead>\n",
       "  <tbody>\n",
       "    <tr>\n",
       "      <th>541</th>\n",
       "      <td>406.0</td>\n",
       "      <td>-2.312227</td>\n",
       "      <td>1.951992</td>\n",
       "      <td>-1.609851</td>\n",
       "      <td>3.997906</td>\n",
       "      <td>-0.522188</td>\n",
       "      <td>-1.426545</td>\n",
       "      <td>-2.537387</td>\n",
       "      <td>1.391657</td>\n",
       "      <td>-2.770089</td>\n",
       "      <td>...</td>\n",
       "      <td>0.517232</td>\n",
       "      <td>-0.035049</td>\n",
       "      <td>-0.465211</td>\n",
       "      <td>0.320198</td>\n",
       "      <td>0.044519</td>\n",
       "      <td>0.177840</td>\n",
       "      <td>0.261145</td>\n",
       "      <td>-0.143276</td>\n",
       "      <td>0.00</td>\n",
       "      <td>1</td>\n",
       "    </tr>\n",
       "    <tr>\n",
       "      <th>623</th>\n",
       "      <td>472.0</td>\n",
       "      <td>-3.043541</td>\n",
       "      <td>-3.157307</td>\n",
       "      <td>1.088463</td>\n",
       "      <td>2.288644</td>\n",
       "      <td>1.359805</td>\n",
       "      <td>-1.064823</td>\n",
       "      <td>0.325574</td>\n",
       "      <td>-0.067794</td>\n",
       "      <td>-0.270953</td>\n",
       "      <td>...</td>\n",
       "      <td>0.661696</td>\n",
       "      <td>0.435477</td>\n",
       "      <td>1.375966</td>\n",
       "      <td>-0.293803</td>\n",
       "      <td>0.279798</td>\n",
       "      <td>-0.145362</td>\n",
       "      <td>-0.252773</td>\n",
       "      <td>0.035764</td>\n",
       "      <td>529.00</td>\n",
       "      <td>1</td>\n",
       "    </tr>\n",
       "    <tr>\n",
       "      <th>4920</th>\n",
       "      <td>4462.0</td>\n",
       "      <td>-2.303350</td>\n",
       "      <td>1.759247</td>\n",
       "      <td>-0.359745</td>\n",
       "      <td>2.330243</td>\n",
       "      <td>-0.821628</td>\n",
       "      <td>-0.075788</td>\n",
       "      <td>0.562320</td>\n",
       "      <td>-0.399147</td>\n",
       "      <td>-0.238253</td>\n",
       "      <td>...</td>\n",
       "      <td>-0.294166</td>\n",
       "      <td>-0.932391</td>\n",
       "      <td>0.172726</td>\n",
       "      <td>-0.087330</td>\n",
       "      <td>-0.156114</td>\n",
       "      <td>-0.542628</td>\n",
       "      <td>0.039566</td>\n",
       "      <td>-0.153029</td>\n",
       "      <td>239.93</td>\n",
       "      <td>1</td>\n",
       "    </tr>\n",
       "    <tr>\n",
       "      <th>6108</th>\n",
       "      <td>6986.0</td>\n",
       "      <td>-4.397974</td>\n",
       "      <td>1.358367</td>\n",
       "      <td>-2.592844</td>\n",
       "      <td>2.679787</td>\n",
       "      <td>-1.128131</td>\n",
       "      <td>-1.706536</td>\n",
       "      <td>-3.496197</td>\n",
       "      <td>-0.248778</td>\n",
       "      <td>-0.247768</td>\n",
       "      <td>...</td>\n",
       "      <td>0.573574</td>\n",
       "      <td>0.176968</td>\n",
       "      <td>-0.436207</td>\n",
       "      <td>-0.053502</td>\n",
       "      <td>0.252405</td>\n",
       "      <td>-0.657488</td>\n",
       "      <td>-0.827136</td>\n",
       "      <td>0.849573</td>\n",
       "      <td>59.00</td>\n",
       "      <td>1</td>\n",
       "    </tr>\n",
       "    <tr>\n",
       "      <th>6329</th>\n",
       "      <td>7519.0</td>\n",
       "      <td>1.234235</td>\n",
       "      <td>3.019740</td>\n",
       "      <td>-4.304597</td>\n",
       "      <td>4.732795</td>\n",
       "      <td>3.624201</td>\n",
       "      <td>-1.357746</td>\n",
       "      <td>1.713445</td>\n",
       "      <td>-0.496358</td>\n",
       "      <td>-1.282858</td>\n",
       "      <td>...</td>\n",
       "      <td>-0.379068</td>\n",
       "      <td>-0.704181</td>\n",
       "      <td>-0.656805</td>\n",
       "      <td>-1.632653</td>\n",
       "      <td>1.488901</td>\n",
       "      <td>0.566797</td>\n",
       "      <td>-0.010016</td>\n",
       "      <td>0.146793</td>\n",
       "      <td>1.00</td>\n",
       "      <td>1</td>\n",
       "    </tr>\n",
       "    <tr>\n",
       "      <th>...</th>\n",
       "      <td>...</td>\n",
       "      <td>...</td>\n",
       "      <td>...</td>\n",
       "      <td>...</td>\n",
       "      <td>...</td>\n",
       "      <td>...</td>\n",
       "      <td>...</td>\n",
       "      <td>...</td>\n",
       "      <td>...</td>\n",
       "      <td>...</td>\n",
       "      <td>...</td>\n",
       "      <td>...</td>\n",
       "      <td>...</td>\n",
       "      <td>...</td>\n",
       "      <td>...</td>\n",
       "      <td>...</td>\n",
       "      <td>...</td>\n",
       "      <td>...</td>\n",
       "      <td>...</td>\n",
       "      <td>...</td>\n",
       "      <td>...</td>\n",
       "    </tr>\n",
       "    <tr>\n",
       "      <th>279863</th>\n",
       "      <td>169142.0</td>\n",
       "      <td>-1.927883</td>\n",
       "      <td>1.125653</td>\n",
       "      <td>-4.518331</td>\n",
       "      <td>1.749293</td>\n",
       "      <td>-1.566487</td>\n",
       "      <td>-2.010494</td>\n",
       "      <td>-0.882850</td>\n",
       "      <td>0.697211</td>\n",
       "      <td>-2.064945</td>\n",
       "      <td>...</td>\n",
       "      <td>0.778584</td>\n",
       "      <td>-0.319189</td>\n",
       "      <td>0.639419</td>\n",
       "      <td>-0.294885</td>\n",
       "      <td>0.537503</td>\n",
       "      <td>0.788395</td>\n",
       "      <td>0.292680</td>\n",
       "      <td>0.147968</td>\n",
       "      <td>390.00</td>\n",
       "      <td>1</td>\n",
       "    </tr>\n",
       "    <tr>\n",
       "      <th>280143</th>\n",
       "      <td>169347.0</td>\n",
       "      <td>1.378559</td>\n",
       "      <td>1.289381</td>\n",
       "      <td>-5.004247</td>\n",
       "      <td>1.411850</td>\n",
       "      <td>0.442581</td>\n",
       "      <td>-1.326536</td>\n",
       "      <td>-1.413170</td>\n",
       "      <td>0.248525</td>\n",
       "      <td>-1.127396</td>\n",
       "      <td>...</td>\n",
       "      <td>0.370612</td>\n",
       "      <td>0.028234</td>\n",
       "      <td>-0.145640</td>\n",
       "      <td>-0.081049</td>\n",
       "      <td>0.521875</td>\n",
       "      <td>0.739467</td>\n",
       "      <td>0.389152</td>\n",
       "      <td>0.186637</td>\n",
       "      <td>0.76</td>\n",
       "      <td>1</td>\n",
       "    </tr>\n",
       "    <tr>\n",
       "      <th>280149</th>\n",
       "      <td>169351.0</td>\n",
       "      <td>-0.676143</td>\n",
       "      <td>1.126366</td>\n",
       "      <td>-2.213700</td>\n",
       "      <td>0.468308</td>\n",
       "      <td>-1.120541</td>\n",
       "      <td>-0.003346</td>\n",
       "      <td>-2.234739</td>\n",
       "      <td>1.210158</td>\n",
       "      <td>-0.652250</td>\n",
       "      <td>...</td>\n",
       "      <td>0.751826</td>\n",
       "      <td>0.834108</td>\n",
       "      <td>0.190944</td>\n",
       "      <td>0.032070</td>\n",
       "      <td>-0.739695</td>\n",
       "      <td>0.471111</td>\n",
       "      <td>0.385107</td>\n",
       "      <td>0.194361</td>\n",
       "      <td>77.89</td>\n",
       "      <td>1</td>\n",
       "    </tr>\n",
       "    <tr>\n",
       "      <th>281144</th>\n",
       "      <td>169966.0</td>\n",
       "      <td>-3.113832</td>\n",
       "      <td>0.585864</td>\n",
       "      <td>-5.399730</td>\n",
       "      <td>1.817092</td>\n",
       "      <td>-0.840618</td>\n",
       "      <td>-2.943548</td>\n",
       "      <td>-2.208002</td>\n",
       "      <td>1.058733</td>\n",
       "      <td>-1.632333</td>\n",
       "      <td>...</td>\n",
       "      <td>0.583276</td>\n",
       "      <td>-0.269209</td>\n",
       "      <td>-0.456108</td>\n",
       "      <td>-0.183659</td>\n",
       "      <td>-0.328168</td>\n",
       "      <td>0.606116</td>\n",
       "      <td>0.884876</td>\n",
       "      <td>-0.253700</td>\n",
       "      <td>245.00</td>\n",
       "      <td>1</td>\n",
       "    </tr>\n",
       "    <tr>\n",
       "      <th>281674</th>\n",
       "      <td>170348.0</td>\n",
       "      <td>1.991976</td>\n",
       "      <td>0.158476</td>\n",
       "      <td>-2.583441</td>\n",
       "      <td>0.408670</td>\n",
       "      <td>1.151147</td>\n",
       "      <td>-0.096695</td>\n",
       "      <td>0.223050</td>\n",
       "      <td>-0.068384</td>\n",
       "      <td>0.577829</td>\n",
       "      <td>...</td>\n",
       "      <td>-0.164350</td>\n",
       "      <td>-0.295135</td>\n",
       "      <td>-0.072173</td>\n",
       "      <td>-0.450261</td>\n",
       "      <td>0.313267</td>\n",
       "      <td>-0.289617</td>\n",
       "      <td>0.002988</td>\n",
       "      <td>-0.015309</td>\n",
       "      <td>42.53</td>\n",
       "      <td>1</td>\n",
       "    </tr>\n",
       "  </tbody>\n",
       "</table>\n",
       "<p>492 rows × 31 columns</p>\n",
       "</div>"
      ],
      "text/plain": [
       "            Time        V1        V2        V3        V4        V5        V6  \\\n",
       "541        406.0 -2.312227  1.951992 -1.609851  3.997906 -0.522188 -1.426545   \n",
       "623        472.0 -3.043541 -3.157307  1.088463  2.288644  1.359805 -1.064823   \n",
       "4920      4462.0 -2.303350  1.759247 -0.359745  2.330243 -0.821628 -0.075788   \n",
       "6108      6986.0 -4.397974  1.358367 -2.592844  2.679787 -1.128131 -1.706536   \n",
       "6329      7519.0  1.234235  3.019740 -4.304597  4.732795  3.624201 -1.357746   \n",
       "...          ...       ...       ...       ...       ...       ...       ...   \n",
       "279863  169142.0 -1.927883  1.125653 -4.518331  1.749293 -1.566487 -2.010494   \n",
       "280143  169347.0  1.378559  1.289381 -5.004247  1.411850  0.442581 -1.326536   \n",
       "280149  169351.0 -0.676143  1.126366 -2.213700  0.468308 -1.120541 -0.003346   \n",
       "281144  169966.0 -3.113832  0.585864 -5.399730  1.817092 -0.840618 -2.943548   \n",
       "281674  170348.0  1.991976  0.158476 -2.583441  0.408670  1.151147 -0.096695   \n",
       "\n",
       "              V7        V8        V9  ...       V21       V22       V23  \\\n",
       "541    -2.537387  1.391657 -2.770089  ...  0.517232 -0.035049 -0.465211   \n",
       "623     0.325574 -0.067794 -0.270953  ...  0.661696  0.435477  1.375966   \n",
       "4920    0.562320 -0.399147 -0.238253  ... -0.294166 -0.932391  0.172726   \n",
       "6108   -3.496197 -0.248778 -0.247768  ...  0.573574  0.176968 -0.436207   \n",
       "6329    1.713445 -0.496358 -1.282858  ... -0.379068 -0.704181 -0.656805   \n",
       "...          ...       ...       ...  ...       ...       ...       ...   \n",
       "279863 -0.882850  0.697211 -2.064945  ...  0.778584 -0.319189  0.639419   \n",
       "280143 -1.413170  0.248525 -1.127396  ...  0.370612  0.028234 -0.145640   \n",
       "280149 -2.234739  1.210158 -0.652250  ...  0.751826  0.834108  0.190944   \n",
       "281144 -2.208002  1.058733 -1.632333  ...  0.583276 -0.269209 -0.456108   \n",
       "281674  0.223050 -0.068384  0.577829  ... -0.164350 -0.295135 -0.072173   \n",
       "\n",
       "             V24       V25       V26       V27       V28  Amount  Class  \n",
       "541     0.320198  0.044519  0.177840  0.261145 -0.143276    0.00      1  \n",
       "623    -0.293803  0.279798 -0.145362 -0.252773  0.035764  529.00      1  \n",
       "4920   -0.087330 -0.156114 -0.542628  0.039566 -0.153029  239.93      1  \n",
       "6108   -0.053502  0.252405 -0.657488 -0.827136  0.849573   59.00      1  \n",
       "6329   -1.632653  1.488901  0.566797 -0.010016  0.146793    1.00      1  \n",
       "...          ...       ...       ...       ...       ...     ...    ...  \n",
       "279863 -0.294885  0.537503  0.788395  0.292680  0.147968  390.00      1  \n",
       "280143 -0.081049  0.521875  0.739467  0.389152  0.186637    0.76      1  \n",
       "280149  0.032070 -0.739695  0.471111  0.385107  0.194361   77.89      1  \n",
       "281144 -0.183659 -0.328168  0.606116  0.884876 -0.253700  245.00      1  \n",
       "281674 -0.450261  0.313267 -0.289617  0.002988 -0.015309   42.53      1  \n",
       "\n",
       "[492 rows x 31 columns]"
      ]
     },
     "execution_count": 11,
     "metadata": {},
     "output_type": "execute_result"
    }
   ],
   "source": [
    "fraud             # Each row with class = 1"
   ]
  },
  {
   "cell_type": "code",
   "execution_count": 12,
   "id": "laughing-litigation",
   "metadata": {
    "execution": {
     "iopub.execute_input": "2022-08-31T16:52:34.988201Z",
     "iopub.status.busy": "2022-08-31T16:52:34.987472Z",
     "iopub.status.idle": "2022-08-31T16:52:35.049169Z",
     "shell.execute_reply": "2022-08-31T16:52:35.048515Z",
     "shell.execute_reply.started": "2021-06-06T17:05:44.723860Z"
    },
    "papermill": {
     "duration": 0.111673,
     "end_time": "2022-08-31T16:52:35.049347",
     "exception": false,
     "start_time": "2022-08-31T16:52:34.937674",
     "status": "completed"
    },
    "tags": []
   },
   "outputs": [],
   "source": [
    "non_fraud = data[data.Class == 0]"
   ]
  },
  {
   "cell_type": "code",
   "execution_count": 13,
   "id": "acceptable-width",
   "metadata": {
    "execution": {
     "iopub.execute_input": "2022-08-31T16:52:35.146972Z",
     "iopub.status.busy": "2022-08-31T16:52:35.146257Z",
     "iopub.status.idle": "2022-08-31T16:52:35.287578Z",
     "shell.execute_reply": "2022-08-31T16:52:35.288246Z",
     "shell.execute_reply.started": "2021-06-06T17:05:44.763111Z"
    },
    "papermill": {
     "duration": 0.191533,
     "end_time": "2022-08-31T16:52:35.288455",
     "exception": false,
     "start_time": "2022-08-31T16:52:35.096922",
     "status": "completed"
    },
    "tags": []
   },
   "outputs": [
    {
     "data": {
      "text/html": [
       "<div>\n",
       "<style scoped>\n",
       "    .dataframe tbody tr th:only-of-type {\n",
       "        vertical-align: middle;\n",
       "    }\n",
       "\n",
       "    .dataframe tbody tr th {\n",
       "        vertical-align: top;\n",
       "    }\n",
       "\n",
       "    .dataframe thead th {\n",
       "        text-align: right;\n",
       "    }\n",
       "</style>\n",
       "<table border=\"1\" class=\"dataframe\">\n",
       "  <thead>\n",
       "    <tr style=\"text-align: right;\">\n",
       "      <th></th>\n",
       "      <th>Time</th>\n",
       "      <th>V1</th>\n",
       "      <th>V2</th>\n",
       "      <th>V3</th>\n",
       "      <th>V4</th>\n",
       "      <th>V5</th>\n",
       "      <th>V6</th>\n",
       "      <th>V7</th>\n",
       "      <th>V8</th>\n",
       "      <th>V9</th>\n",
       "      <th>...</th>\n",
       "      <th>V21</th>\n",
       "      <th>V22</th>\n",
       "      <th>V23</th>\n",
       "      <th>V24</th>\n",
       "      <th>V25</th>\n",
       "      <th>V26</th>\n",
       "      <th>V27</th>\n",
       "      <th>V28</th>\n",
       "      <th>Amount</th>\n",
       "      <th>Class</th>\n",
       "    </tr>\n",
       "  </thead>\n",
       "  <tbody>\n",
       "    <tr>\n",
       "      <th>0</th>\n",
       "      <td>0.0</td>\n",
       "      <td>-1.359807</td>\n",
       "      <td>-0.072781</td>\n",
       "      <td>2.536347</td>\n",
       "      <td>1.378155</td>\n",
       "      <td>-0.338321</td>\n",
       "      <td>0.462388</td>\n",
       "      <td>0.239599</td>\n",
       "      <td>0.098698</td>\n",
       "      <td>0.363787</td>\n",
       "      <td>...</td>\n",
       "      <td>-0.018307</td>\n",
       "      <td>0.277838</td>\n",
       "      <td>-0.110474</td>\n",
       "      <td>0.066928</td>\n",
       "      <td>0.128539</td>\n",
       "      <td>-0.189115</td>\n",
       "      <td>0.133558</td>\n",
       "      <td>-0.021053</td>\n",
       "      <td>149.62</td>\n",
       "      <td>0</td>\n",
       "    </tr>\n",
       "    <tr>\n",
       "      <th>1</th>\n",
       "      <td>0.0</td>\n",
       "      <td>1.191857</td>\n",
       "      <td>0.266151</td>\n",
       "      <td>0.166480</td>\n",
       "      <td>0.448154</td>\n",
       "      <td>0.060018</td>\n",
       "      <td>-0.082361</td>\n",
       "      <td>-0.078803</td>\n",
       "      <td>0.085102</td>\n",
       "      <td>-0.255425</td>\n",
       "      <td>...</td>\n",
       "      <td>-0.225775</td>\n",
       "      <td>-0.638672</td>\n",
       "      <td>0.101288</td>\n",
       "      <td>-0.339846</td>\n",
       "      <td>0.167170</td>\n",
       "      <td>0.125895</td>\n",
       "      <td>-0.008983</td>\n",
       "      <td>0.014724</td>\n",
       "      <td>2.69</td>\n",
       "      <td>0</td>\n",
       "    </tr>\n",
       "    <tr>\n",
       "      <th>2</th>\n",
       "      <td>1.0</td>\n",
       "      <td>-1.358354</td>\n",
       "      <td>-1.340163</td>\n",
       "      <td>1.773209</td>\n",
       "      <td>0.379780</td>\n",
       "      <td>-0.503198</td>\n",
       "      <td>1.800499</td>\n",
       "      <td>0.791461</td>\n",
       "      <td>0.247676</td>\n",
       "      <td>-1.514654</td>\n",
       "      <td>...</td>\n",
       "      <td>0.247998</td>\n",
       "      <td>0.771679</td>\n",
       "      <td>0.909412</td>\n",
       "      <td>-0.689281</td>\n",
       "      <td>-0.327642</td>\n",
       "      <td>-0.139097</td>\n",
       "      <td>-0.055353</td>\n",
       "      <td>-0.059752</td>\n",
       "      <td>378.66</td>\n",
       "      <td>0</td>\n",
       "    </tr>\n",
       "    <tr>\n",
       "      <th>3</th>\n",
       "      <td>1.0</td>\n",
       "      <td>-0.966272</td>\n",
       "      <td>-0.185226</td>\n",
       "      <td>1.792993</td>\n",
       "      <td>-0.863291</td>\n",
       "      <td>-0.010309</td>\n",
       "      <td>1.247203</td>\n",
       "      <td>0.237609</td>\n",
       "      <td>0.377436</td>\n",
       "      <td>-1.387024</td>\n",
       "      <td>...</td>\n",
       "      <td>-0.108300</td>\n",
       "      <td>0.005274</td>\n",
       "      <td>-0.190321</td>\n",
       "      <td>-1.175575</td>\n",
       "      <td>0.647376</td>\n",
       "      <td>-0.221929</td>\n",
       "      <td>0.062723</td>\n",
       "      <td>0.061458</td>\n",
       "      <td>123.50</td>\n",
       "      <td>0</td>\n",
       "    </tr>\n",
       "    <tr>\n",
       "      <th>4</th>\n",
       "      <td>2.0</td>\n",
       "      <td>-1.158233</td>\n",
       "      <td>0.877737</td>\n",
       "      <td>1.548718</td>\n",
       "      <td>0.403034</td>\n",
       "      <td>-0.407193</td>\n",
       "      <td>0.095921</td>\n",
       "      <td>0.592941</td>\n",
       "      <td>-0.270533</td>\n",
       "      <td>0.817739</td>\n",
       "      <td>...</td>\n",
       "      <td>-0.009431</td>\n",
       "      <td>0.798278</td>\n",
       "      <td>-0.137458</td>\n",
       "      <td>0.141267</td>\n",
       "      <td>-0.206010</td>\n",
       "      <td>0.502292</td>\n",
       "      <td>0.219422</td>\n",
       "      <td>0.215153</td>\n",
       "      <td>69.99</td>\n",
       "      <td>0</td>\n",
       "    </tr>\n",
       "    <tr>\n",
       "      <th>...</th>\n",
       "      <td>...</td>\n",
       "      <td>...</td>\n",
       "      <td>...</td>\n",
       "      <td>...</td>\n",
       "      <td>...</td>\n",
       "      <td>...</td>\n",
       "      <td>...</td>\n",
       "      <td>...</td>\n",
       "      <td>...</td>\n",
       "      <td>...</td>\n",
       "      <td>...</td>\n",
       "      <td>...</td>\n",
       "      <td>...</td>\n",
       "      <td>...</td>\n",
       "      <td>...</td>\n",
       "      <td>...</td>\n",
       "      <td>...</td>\n",
       "      <td>...</td>\n",
       "      <td>...</td>\n",
       "      <td>...</td>\n",
       "      <td>...</td>\n",
       "    </tr>\n",
       "    <tr>\n",
       "      <th>284802</th>\n",
       "      <td>172786.0</td>\n",
       "      <td>-11.881118</td>\n",
       "      <td>10.071785</td>\n",
       "      <td>-9.834783</td>\n",
       "      <td>-2.066656</td>\n",
       "      <td>-5.364473</td>\n",
       "      <td>-2.606837</td>\n",
       "      <td>-4.918215</td>\n",
       "      <td>7.305334</td>\n",
       "      <td>1.914428</td>\n",
       "      <td>...</td>\n",
       "      <td>0.213454</td>\n",
       "      <td>0.111864</td>\n",
       "      <td>1.014480</td>\n",
       "      <td>-0.509348</td>\n",
       "      <td>1.436807</td>\n",
       "      <td>0.250034</td>\n",
       "      <td>0.943651</td>\n",
       "      <td>0.823731</td>\n",
       "      <td>0.77</td>\n",
       "      <td>0</td>\n",
       "    </tr>\n",
       "    <tr>\n",
       "      <th>284803</th>\n",
       "      <td>172787.0</td>\n",
       "      <td>-0.732789</td>\n",
       "      <td>-0.055080</td>\n",
       "      <td>2.035030</td>\n",
       "      <td>-0.738589</td>\n",
       "      <td>0.868229</td>\n",
       "      <td>1.058415</td>\n",
       "      <td>0.024330</td>\n",
       "      <td>0.294869</td>\n",
       "      <td>0.584800</td>\n",
       "      <td>...</td>\n",
       "      <td>0.214205</td>\n",
       "      <td>0.924384</td>\n",
       "      <td>0.012463</td>\n",
       "      <td>-1.016226</td>\n",
       "      <td>-0.606624</td>\n",
       "      <td>-0.395255</td>\n",
       "      <td>0.068472</td>\n",
       "      <td>-0.053527</td>\n",
       "      <td>24.79</td>\n",
       "      <td>0</td>\n",
       "    </tr>\n",
       "    <tr>\n",
       "      <th>284804</th>\n",
       "      <td>172788.0</td>\n",
       "      <td>1.919565</td>\n",
       "      <td>-0.301254</td>\n",
       "      <td>-3.249640</td>\n",
       "      <td>-0.557828</td>\n",
       "      <td>2.630515</td>\n",
       "      <td>3.031260</td>\n",
       "      <td>-0.296827</td>\n",
       "      <td>0.708417</td>\n",
       "      <td>0.432454</td>\n",
       "      <td>...</td>\n",
       "      <td>0.232045</td>\n",
       "      <td>0.578229</td>\n",
       "      <td>-0.037501</td>\n",
       "      <td>0.640134</td>\n",
       "      <td>0.265745</td>\n",
       "      <td>-0.087371</td>\n",
       "      <td>0.004455</td>\n",
       "      <td>-0.026561</td>\n",
       "      <td>67.88</td>\n",
       "      <td>0</td>\n",
       "    </tr>\n",
       "    <tr>\n",
       "      <th>284805</th>\n",
       "      <td>172788.0</td>\n",
       "      <td>-0.240440</td>\n",
       "      <td>0.530483</td>\n",
       "      <td>0.702510</td>\n",
       "      <td>0.689799</td>\n",
       "      <td>-0.377961</td>\n",
       "      <td>0.623708</td>\n",
       "      <td>-0.686180</td>\n",
       "      <td>0.679145</td>\n",
       "      <td>0.392087</td>\n",
       "      <td>...</td>\n",
       "      <td>0.265245</td>\n",
       "      <td>0.800049</td>\n",
       "      <td>-0.163298</td>\n",
       "      <td>0.123205</td>\n",
       "      <td>-0.569159</td>\n",
       "      <td>0.546668</td>\n",
       "      <td>0.108821</td>\n",
       "      <td>0.104533</td>\n",
       "      <td>10.00</td>\n",
       "      <td>0</td>\n",
       "    </tr>\n",
       "    <tr>\n",
       "      <th>284806</th>\n",
       "      <td>172792.0</td>\n",
       "      <td>-0.533413</td>\n",
       "      <td>-0.189733</td>\n",
       "      <td>0.703337</td>\n",
       "      <td>-0.506271</td>\n",
       "      <td>-0.012546</td>\n",
       "      <td>-0.649617</td>\n",
       "      <td>1.577006</td>\n",
       "      <td>-0.414650</td>\n",
       "      <td>0.486180</td>\n",
       "      <td>...</td>\n",
       "      <td>0.261057</td>\n",
       "      <td>0.643078</td>\n",
       "      <td>0.376777</td>\n",
       "      <td>0.008797</td>\n",
       "      <td>-0.473649</td>\n",
       "      <td>-0.818267</td>\n",
       "      <td>-0.002415</td>\n",
       "      <td>0.013649</td>\n",
       "      <td>217.00</td>\n",
       "      <td>0</td>\n",
       "    </tr>\n",
       "  </tbody>\n",
       "</table>\n",
       "<p>284315 rows × 31 columns</p>\n",
       "</div>"
      ],
      "text/plain": [
       "            Time         V1         V2        V3        V4        V5  \\\n",
       "0            0.0  -1.359807  -0.072781  2.536347  1.378155 -0.338321   \n",
       "1            0.0   1.191857   0.266151  0.166480  0.448154  0.060018   \n",
       "2            1.0  -1.358354  -1.340163  1.773209  0.379780 -0.503198   \n",
       "3            1.0  -0.966272  -0.185226  1.792993 -0.863291 -0.010309   \n",
       "4            2.0  -1.158233   0.877737  1.548718  0.403034 -0.407193   \n",
       "...          ...        ...        ...       ...       ...       ...   \n",
       "284802  172786.0 -11.881118  10.071785 -9.834783 -2.066656 -5.364473   \n",
       "284803  172787.0  -0.732789  -0.055080  2.035030 -0.738589  0.868229   \n",
       "284804  172788.0   1.919565  -0.301254 -3.249640 -0.557828  2.630515   \n",
       "284805  172788.0  -0.240440   0.530483  0.702510  0.689799 -0.377961   \n",
       "284806  172792.0  -0.533413  -0.189733  0.703337 -0.506271 -0.012546   \n",
       "\n",
       "              V6        V7        V8        V9  ...       V21       V22  \\\n",
       "0       0.462388  0.239599  0.098698  0.363787  ... -0.018307  0.277838   \n",
       "1      -0.082361 -0.078803  0.085102 -0.255425  ... -0.225775 -0.638672   \n",
       "2       1.800499  0.791461  0.247676 -1.514654  ...  0.247998  0.771679   \n",
       "3       1.247203  0.237609  0.377436 -1.387024  ... -0.108300  0.005274   \n",
       "4       0.095921  0.592941 -0.270533  0.817739  ... -0.009431  0.798278   \n",
       "...          ...       ...       ...       ...  ...       ...       ...   \n",
       "284802 -2.606837 -4.918215  7.305334  1.914428  ...  0.213454  0.111864   \n",
       "284803  1.058415  0.024330  0.294869  0.584800  ...  0.214205  0.924384   \n",
       "284804  3.031260 -0.296827  0.708417  0.432454  ...  0.232045  0.578229   \n",
       "284805  0.623708 -0.686180  0.679145  0.392087  ...  0.265245  0.800049   \n",
       "284806 -0.649617  1.577006 -0.414650  0.486180  ...  0.261057  0.643078   \n",
       "\n",
       "             V23       V24       V25       V26       V27       V28  Amount  \\\n",
       "0      -0.110474  0.066928  0.128539 -0.189115  0.133558 -0.021053  149.62   \n",
       "1       0.101288 -0.339846  0.167170  0.125895 -0.008983  0.014724    2.69   \n",
       "2       0.909412 -0.689281 -0.327642 -0.139097 -0.055353 -0.059752  378.66   \n",
       "3      -0.190321 -1.175575  0.647376 -0.221929  0.062723  0.061458  123.50   \n",
       "4      -0.137458  0.141267 -0.206010  0.502292  0.219422  0.215153   69.99   \n",
       "...          ...       ...       ...       ...       ...       ...     ...   \n",
       "284802  1.014480 -0.509348  1.436807  0.250034  0.943651  0.823731    0.77   \n",
       "284803  0.012463 -1.016226 -0.606624 -0.395255  0.068472 -0.053527   24.79   \n",
       "284804 -0.037501  0.640134  0.265745 -0.087371  0.004455 -0.026561   67.88   \n",
       "284805 -0.163298  0.123205 -0.569159  0.546668  0.108821  0.104533   10.00   \n",
       "284806  0.376777  0.008797 -0.473649 -0.818267 -0.002415  0.013649  217.00   \n",
       "\n",
       "        Class  \n",
       "0           0  \n",
       "1           0  \n",
       "2           0  \n",
       "3           0  \n",
       "4           0  \n",
       "...       ...  \n",
       "284802      0  \n",
       "284803      0  \n",
       "284804      0  \n",
       "284805      0  \n",
       "284806      0  \n",
       "\n",
       "[284315 rows x 31 columns]"
      ]
     },
     "execution_count": 13,
     "metadata": {},
     "output_type": "execute_result"
    }
   ],
   "source": [
    "non_fraud           # Each row with class = 0"
   ]
  },
  {
   "cell_type": "code",
   "execution_count": 14,
   "id": "specified-making",
   "metadata": {
    "execution": {
     "iopub.execute_input": "2022-08-31T16:52:35.388061Z",
     "iopub.status.busy": "2022-08-31T16:52:35.387317Z",
     "iopub.status.idle": "2022-08-31T16:52:35.394521Z",
     "shell.execute_reply": "2022-08-31T16:52:35.395256Z",
     "shell.execute_reply.started": "2021-06-06T17:05:44.882508Z"
    },
    "papermill": {
     "duration": 0.059181,
     "end_time": "2022-08-31T16:52:35.395481",
     "exception": false,
     "start_time": "2022-08-31T16:52:35.336300",
     "status": "completed"
    },
    "tags": []
   },
   "outputs": [
    {
     "name": "stdout",
     "output_type": "stream",
     "text": [
      "Shape of fraud data: (492, 31)\n",
      "Shape of non-fraus data: (284315, 31)\n"
     ]
    }
   ],
   "source": [
    "print(\"Shape of fraud data:\", fraud.shape)\n",
    "print(\"Shape of non-fraus data:\", non_fraud.shape)"
   ]
  },
  {
   "cell_type": "markdown",
   "id": "engaging-survivor",
   "metadata": {
    "papermill": {
     "duration": 0.047654,
     "end_time": "2022-08-31T16:52:35.492844",
     "exception": false,
     "start_time": "2022-08-31T16:52:35.445190",
     "status": "completed"
    },
    "tags": []
   },
   "source": [
    "# Balancing the Dataset"
   ]
  },
  {
   "cell_type": "code",
   "execution_count": 15,
   "id": "invisible-cattle",
   "metadata": {
    "execution": {
     "iopub.execute_input": "2022-08-31T16:52:35.596101Z",
     "iopub.status.busy": "2022-08-31T16:52:35.595343Z",
     "iopub.status.idle": "2022-08-31T16:52:35.610963Z",
     "shell.execute_reply": "2022-08-31T16:52:35.611575Z",
     "shell.execute_reply.started": "2021-06-06T17:05:44.890351Z"
    },
    "papermill": {
     "duration": 0.070564,
     "end_time": "2022-08-31T16:52:35.611790",
     "exception": false,
     "start_time": "2022-08-31T16:52:35.541226",
     "status": "completed"
    },
    "tags": []
   },
   "outputs": [],
   "source": [
    "nan_fraud_balanced = non_fraud.sample(4000)"
   ]
  },
  {
   "cell_type": "code",
   "execution_count": 16,
   "id": "static-flesh",
   "metadata": {
    "execution": {
     "iopub.execute_input": "2022-08-31T16:52:35.713398Z",
     "iopub.status.busy": "2022-08-31T16:52:35.712706Z",
     "iopub.status.idle": "2022-08-31T16:52:35.747834Z",
     "shell.execute_reply": "2022-08-31T16:52:35.748527Z",
     "shell.execute_reply.started": "2021-06-06T17:05:44.920173Z"
    },
    "papermill": {
     "duration": 0.087684,
     "end_time": "2022-08-31T16:52:35.748757",
     "exception": false,
     "start_time": "2022-08-31T16:52:35.661073",
     "status": "completed"
    },
    "tags": []
   },
   "outputs": [
    {
     "data": {
      "text/html": [
       "<div>\n",
       "<style scoped>\n",
       "    .dataframe tbody tr th:only-of-type {\n",
       "        vertical-align: middle;\n",
       "    }\n",
       "\n",
       "    .dataframe tbody tr th {\n",
       "        vertical-align: top;\n",
       "    }\n",
       "\n",
       "    .dataframe thead th {\n",
       "        text-align: right;\n",
       "    }\n",
       "</style>\n",
       "<table border=\"1\" class=\"dataframe\">\n",
       "  <thead>\n",
       "    <tr style=\"text-align: right;\">\n",
       "      <th></th>\n",
       "      <th>Time</th>\n",
       "      <th>V1</th>\n",
       "      <th>V2</th>\n",
       "      <th>V3</th>\n",
       "      <th>V4</th>\n",
       "      <th>V5</th>\n",
       "      <th>V6</th>\n",
       "      <th>V7</th>\n",
       "      <th>V8</th>\n",
       "      <th>V9</th>\n",
       "      <th>...</th>\n",
       "      <th>V21</th>\n",
       "      <th>V22</th>\n",
       "      <th>V23</th>\n",
       "      <th>V24</th>\n",
       "      <th>V25</th>\n",
       "      <th>V26</th>\n",
       "      <th>V27</th>\n",
       "      <th>V28</th>\n",
       "      <th>Amount</th>\n",
       "      <th>Class</th>\n",
       "    </tr>\n",
       "  </thead>\n",
       "  <tbody>\n",
       "    <tr>\n",
       "      <th>140247</th>\n",
       "      <td>83615.0</td>\n",
       "      <td>-1.597213</td>\n",
       "      <td>0.966777</td>\n",
       "      <td>0.645512</td>\n",
       "      <td>-0.157548</td>\n",
       "      <td>1.058650</td>\n",
       "      <td>0.915797</td>\n",
       "      <td>0.875683</td>\n",
       "      <td>-1.666216</td>\n",
       "      <td>-0.460313</td>\n",
       "      <td>...</td>\n",
       "      <td>1.388890</td>\n",
       "      <td>-0.487145</td>\n",
       "      <td>-0.527264</td>\n",
       "      <td>-1.274581</td>\n",
       "      <td>1.034191</td>\n",
       "      <td>-0.216763</td>\n",
       "      <td>0.330260</td>\n",
       "      <td>-0.040354</td>\n",
       "      <td>151.75</td>\n",
       "      <td>0</td>\n",
       "    </tr>\n",
       "    <tr>\n",
       "      <th>82790</th>\n",
       "      <td>59551.0</td>\n",
       "      <td>-0.988041</td>\n",
       "      <td>-1.008132</td>\n",
       "      <td>1.252553</td>\n",
       "      <td>-0.446728</td>\n",
       "      <td>-0.934233</td>\n",
       "      <td>0.243462</td>\n",
       "      <td>0.249080</td>\n",
       "      <td>0.188247</td>\n",
       "      <td>-1.659698</td>\n",
       "      <td>...</td>\n",
       "      <td>0.481151</td>\n",
       "      <td>0.680796</td>\n",
       "      <td>0.726456</td>\n",
       "      <td>-0.070492</td>\n",
       "      <td>-0.503987</td>\n",
       "      <td>-0.226040</td>\n",
       "      <td>0.083602</td>\n",
       "      <td>0.192237</td>\n",
       "      <td>300.36</td>\n",
       "      <td>0</td>\n",
       "    </tr>\n",
       "    <tr>\n",
       "      <th>36556</th>\n",
       "      <td>38590.0</td>\n",
       "      <td>1.104831</td>\n",
       "      <td>-0.160321</td>\n",
       "      <td>1.233190</td>\n",
       "      <td>1.304618</td>\n",
       "      <td>-0.888245</td>\n",
       "      <td>0.246553</td>\n",
       "      <td>-0.704892</td>\n",
       "      <td>0.287620</td>\n",
       "      <td>1.043308</td>\n",
       "      <td>...</td>\n",
       "      <td>-0.045318</td>\n",
       "      <td>0.055726</td>\n",
       "      <td>0.035789</td>\n",
       "      <td>0.056524</td>\n",
       "      <td>0.306566</td>\n",
       "      <td>-0.376330</td>\n",
       "      <td>0.081831</td>\n",
       "      <td>0.033092</td>\n",
       "      <td>11.50</td>\n",
       "      <td>0</td>\n",
       "    </tr>\n",
       "    <tr>\n",
       "      <th>265964</th>\n",
       "      <td>162123.0</td>\n",
       "      <td>-0.870444</td>\n",
       "      <td>0.685799</td>\n",
       "      <td>-1.525514</td>\n",
       "      <td>0.655300</td>\n",
       "      <td>1.070711</td>\n",
       "      <td>-0.803199</td>\n",
       "      <td>0.798519</td>\n",
       "      <td>-0.137138</td>\n",
       "      <td>-0.517641</td>\n",
       "      <td>...</td>\n",
       "      <td>0.210414</td>\n",
       "      <td>1.298746</td>\n",
       "      <td>0.249068</td>\n",
       "      <td>0.796821</td>\n",
       "      <td>-0.843028</td>\n",
       "      <td>0.424691</td>\n",
       "      <td>0.213687</td>\n",
       "      <td>0.027157</td>\n",
       "      <td>20.03</td>\n",
       "      <td>0</td>\n",
       "    </tr>\n",
       "    <tr>\n",
       "      <th>279444</th>\n",
       "      <td>168869.0</td>\n",
       "      <td>1.494146</td>\n",
       "      <td>-1.599861</td>\n",
       "      <td>-2.714029</td>\n",
       "      <td>-0.176604</td>\n",
       "      <td>-0.283932</td>\n",
       "      <td>-1.455147</td>\n",
       "      <td>0.939661</td>\n",
       "      <td>-0.625426</td>\n",
       "      <td>-1.362131</td>\n",
       "      <td>...</td>\n",
       "      <td>0.169042</td>\n",
       "      <td>0.229475</td>\n",
       "      <td>-0.407908</td>\n",
       "      <td>0.151751</td>\n",
       "      <td>0.302475</td>\n",
       "      <td>0.957341</td>\n",
       "      <td>-0.199536</td>\n",
       "      <td>-0.038518</td>\n",
       "      <td>377.40</td>\n",
       "      <td>0</td>\n",
       "    </tr>\n",
       "    <tr>\n",
       "      <th>...</th>\n",
       "      <td>...</td>\n",
       "      <td>...</td>\n",
       "      <td>...</td>\n",
       "      <td>...</td>\n",
       "      <td>...</td>\n",
       "      <td>...</td>\n",
       "      <td>...</td>\n",
       "      <td>...</td>\n",
       "      <td>...</td>\n",
       "      <td>...</td>\n",
       "      <td>...</td>\n",
       "      <td>...</td>\n",
       "      <td>...</td>\n",
       "      <td>...</td>\n",
       "      <td>...</td>\n",
       "      <td>...</td>\n",
       "      <td>...</td>\n",
       "      <td>...</td>\n",
       "      <td>...</td>\n",
       "      <td>...</td>\n",
       "      <td>...</td>\n",
       "    </tr>\n",
       "    <tr>\n",
       "      <th>136022</th>\n",
       "      <td>81509.0</td>\n",
       "      <td>-1.385579</td>\n",
       "      <td>0.459885</td>\n",
       "      <td>1.428936</td>\n",
       "      <td>0.068607</td>\n",
       "      <td>1.137601</td>\n",
       "      <td>1.135157</td>\n",
       "      <td>-0.065530</td>\n",
       "      <td>0.357976</td>\n",
       "      <td>0.065221</td>\n",
       "      <td>...</td>\n",
       "      <td>0.379135</td>\n",
       "      <td>1.318303</td>\n",
       "      <td>-0.135826</td>\n",
       "      <td>-0.913618</td>\n",
       "      <td>-0.958517</td>\n",
       "      <td>-0.497908</td>\n",
       "      <td>-0.158058</td>\n",
       "      <td>0.222192</td>\n",
       "      <td>20.00</td>\n",
       "      <td>0</td>\n",
       "    </tr>\n",
       "    <tr>\n",
       "      <th>251092</th>\n",
       "      <td>155211.0</td>\n",
       "      <td>-2.244366</td>\n",
       "      <td>1.426116</td>\n",
       "      <td>-2.279739</td>\n",
       "      <td>0.185556</td>\n",
       "      <td>-0.490714</td>\n",
       "      <td>-1.678941</td>\n",
       "      <td>-0.550266</td>\n",
       "      <td>1.236637</td>\n",
       "      <td>-0.200809</td>\n",
       "      <td>...</td>\n",
       "      <td>0.435509</td>\n",
       "      <td>0.950568</td>\n",
       "      <td>0.405304</td>\n",
       "      <td>-0.101811</td>\n",
       "      <td>-0.264427</td>\n",
       "      <td>-0.184416</td>\n",
       "      <td>-1.000495</td>\n",
       "      <td>-0.085063</td>\n",
       "      <td>1.50</td>\n",
       "      <td>0</td>\n",
       "    </tr>\n",
       "    <tr>\n",
       "      <th>71883</th>\n",
       "      <td>54481.0</td>\n",
       "      <td>-0.461711</td>\n",
       "      <td>0.349594</td>\n",
       "      <td>0.647493</td>\n",
       "      <td>-0.040712</td>\n",
       "      <td>2.262127</td>\n",
       "      <td>4.415337</td>\n",
       "      <td>0.304298</td>\n",
       "      <td>0.642811</td>\n",
       "      <td>0.582259</td>\n",
       "      <td>...</td>\n",
       "      <td>-0.207820</td>\n",
       "      <td>0.057295</td>\n",
       "      <td>-0.232410</td>\n",
       "      <td>1.028472</td>\n",
       "      <td>0.189607</td>\n",
       "      <td>-0.295191</td>\n",
       "      <td>0.001684</td>\n",
       "      <td>-0.277416</td>\n",
       "      <td>56.84</td>\n",
       "      <td>0</td>\n",
       "    </tr>\n",
       "    <tr>\n",
       "      <th>51633</th>\n",
       "      <td>45049.0</td>\n",
       "      <td>1.235959</td>\n",
       "      <td>0.205460</td>\n",
       "      <td>0.064665</td>\n",
       "      <td>1.192924</td>\n",
       "      <td>0.262245</td>\n",
       "      <td>0.289409</td>\n",
       "      <td>0.042296</td>\n",
       "      <td>0.038909</td>\n",
       "      <td>0.350539</td>\n",
       "      <td>...</td>\n",
       "      <td>-0.160786</td>\n",
       "      <td>-0.206988</td>\n",
       "      <td>-0.160510</td>\n",
       "      <td>-0.759018</td>\n",
       "      <td>0.776817</td>\n",
       "      <td>-0.259485</td>\n",
       "      <td>0.040027</td>\n",
       "      <td>0.006279</td>\n",
       "      <td>2.00</td>\n",
       "      <td>0</td>\n",
       "    </tr>\n",
       "    <tr>\n",
       "      <th>125453</th>\n",
       "      <td>77680.0</td>\n",
       "      <td>0.975461</td>\n",
       "      <td>-0.235876</td>\n",
       "      <td>-0.120398</td>\n",
       "      <td>1.173055</td>\n",
       "      <td>-0.225071</td>\n",
       "      <td>-0.370368</td>\n",
       "      <td>0.274178</td>\n",
       "      <td>-0.024858</td>\n",
       "      <td>0.088482</td>\n",
       "      <td>...</td>\n",
       "      <td>0.056549</td>\n",
       "      <td>-0.066972</td>\n",
       "      <td>-0.299071</td>\n",
       "      <td>-0.018722</td>\n",
       "      <td>0.763203</td>\n",
       "      <td>-0.281994</td>\n",
       "      <td>-0.027376</td>\n",
       "      <td>0.019239</td>\n",
       "      <td>131.76</td>\n",
       "      <td>0</td>\n",
       "    </tr>\n",
       "  </tbody>\n",
       "</table>\n",
       "<p>4000 rows × 31 columns</p>\n",
       "</div>"
      ],
      "text/plain": [
       "            Time        V1        V2        V3        V4        V5        V6  \\\n",
       "140247   83615.0 -1.597213  0.966777  0.645512 -0.157548  1.058650  0.915797   \n",
       "82790    59551.0 -0.988041 -1.008132  1.252553 -0.446728 -0.934233  0.243462   \n",
       "36556    38590.0  1.104831 -0.160321  1.233190  1.304618 -0.888245  0.246553   \n",
       "265964  162123.0 -0.870444  0.685799 -1.525514  0.655300  1.070711 -0.803199   \n",
       "279444  168869.0  1.494146 -1.599861 -2.714029 -0.176604 -0.283932 -1.455147   \n",
       "...          ...       ...       ...       ...       ...       ...       ...   \n",
       "136022   81509.0 -1.385579  0.459885  1.428936  0.068607  1.137601  1.135157   \n",
       "251092  155211.0 -2.244366  1.426116 -2.279739  0.185556 -0.490714 -1.678941   \n",
       "71883    54481.0 -0.461711  0.349594  0.647493 -0.040712  2.262127  4.415337   \n",
       "51633    45049.0  1.235959  0.205460  0.064665  1.192924  0.262245  0.289409   \n",
       "125453   77680.0  0.975461 -0.235876 -0.120398  1.173055 -0.225071 -0.370368   \n",
       "\n",
       "              V7        V8        V9  ...       V21       V22       V23  \\\n",
       "140247  0.875683 -1.666216 -0.460313  ...  1.388890 -0.487145 -0.527264   \n",
       "82790   0.249080  0.188247 -1.659698  ...  0.481151  0.680796  0.726456   \n",
       "36556  -0.704892  0.287620  1.043308  ... -0.045318  0.055726  0.035789   \n",
       "265964  0.798519 -0.137138 -0.517641  ...  0.210414  1.298746  0.249068   \n",
       "279444  0.939661 -0.625426 -1.362131  ...  0.169042  0.229475 -0.407908   \n",
       "...          ...       ...       ...  ...       ...       ...       ...   \n",
       "136022 -0.065530  0.357976  0.065221  ...  0.379135  1.318303 -0.135826   \n",
       "251092 -0.550266  1.236637 -0.200809  ...  0.435509  0.950568  0.405304   \n",
       "71883   0.304298  0.642811  0.582259  ... -0.207820  0.057295 -0.232410   \n",
       "51633   0.042296  0.038909  0.350539  ... -0.160786 -0.206988 -0.160510   \n",
       "125453  0.274178 -0.024858  0.088482  ...  0.056549 -0.066972 -0.299071   \n",
       "\n",
       "             V24       V25       V26       V27       V28  Amount  Class  \n",
       "140247 -1.274581  1.034191 -0.216763  0.330260 -0.040354  151.75      0  \n",
       "82790  -0.070492 -0.503987 -0.226040  0.083602  0.192237  300.36      0  \n",
       "36556   0.056524  0.306566 -0.376330  0.081831  0.033092   11.50      0  \n",
       "265964  0.796821 -0.843028  0.424691  0.213687  0.027157   20.03      0  \n",
       "279444  0.151751  0.302475  0.957341 -0.199536 -0.038518  377.40      0  \n",
       "...          ...       ...       ...       ...       ...     ...    ...  \n",
       "136022 -0.913618 -0.958517 -0.497908 -0.158058  0.222192   20.00      0  \n",
       "251092 -0.101811 -0.264427 -0.184416 -1.000495 -0.085063    1.50      0  \n",
       "71883   1.028472  0.189607 -0.295191  0.001684 -0.277416   56.84      0  \n",
       "51633  -0.759018  0.776817 -0.259485  0.040027  0.006279    2.00      0  \n",
       "125453 -0.018722  0.763203 -0.281994 -0.027376  0.019239  131.76      0  \n",
       "\n",
       "[4000 rows x 31 columns]"
      ]
     },
     "execution_count": 16,
     "metadata": {},
     "output_type": "execute_result"
    }
   ],
   "source": [
    "nan_fraud_balanced"
   ]
  },
  {
   "cell_type": "code",
   "execution_count": 17,
   "id": "auburn-climb",
   "metadata": {
    "execution": {
     "iopub.execute_input": "2022-08-31T16:52:35.851133Z",
     "iopub.status.busy": "2022-08-31T16:52:35.850305Z",
     "iopub.status.idle": "2022-08-31T16:52:35.856208Z",
     "shell.execute_reply": "2022-08-31T16:52:35.856811Z",
     "shell.execute_reply.started": "2021-06-06T17:05:44.969411Z"
    },
    "papermill": {
     "duration": 0.059237,
     "end_time": "2022-08-31T16:52:35.857031",
     "exception": false,
     "start_time": "2022-08-31T16:52:35.797794",
     "status": "completed"
    },
    "tags": []
   },
   "outputs": [],
   "source": [
    "balanced_data = fraud.append(nan_fraud_balanced, ignore_index = True)"
   ]
  },
  {
   "cell_type": "code",
   "execution_count": 18,
   "id": "varied-artwork",
   "metadata": {
    "execution": {
     "iopub.execute_input": "2022-08-31T16:52:35.960333Z",
     "iopub.status.busy": "2022-08-31T16:52:35.959463Z",
     "iopub.status.idle": "2022-08-31T16:52:35.995803Z",
     "shell.execute_reply": "2022-08-31T16:52:35.996482Z",
     "shell.execute_reply.started": "2021-06-06T17:05:44.977276Z"
    },
    "papermill": {
     "duration": 0.090326,
     "end_time": "2022-08-31T16:52:35.996714",
     "exception": false,
     "start_time": "2022-08-31T16:52:35.906388",
     "status": "completed"
    },
    "tags": []
   },
   "outputs": [
    {
     "data": {
      "text/html": [
       "<div>\n",
       "<style scoped>\n",
       "    .dataframe tbody tr th:only-of-type {\n",
       "        vertical-align: middle;\n",
       "    }\n",
       "\n",
       "    .dataframe tbody tr th {\n",
       "        vertical-align: top;\n",
       "    }\n",
       "\n",
       "    .dataframe thead th {\n",
       "        text-align: right;\n",
       "    }\n",
       "</style>\n",
       "<table border=\"1\" class=\"dataframe\">\n",
       "  <thead>\n",
       "    <tr style=\"text-align: right;\">\n",
       "      <th></th>\n",
       "      <th>Time</th>\n",
       "      <th>V1</th>\n",
       "      <th>V2</th>\n",
       "      <th>V3</th>\n",
       "      <th>V4</th>\n",
       "      <th>V5</th>\n",
       "      <th>V6</th>\n",
       "      <th>V7</th>\n",
       "      <th>V8</th>\n",
       "      <th>V9</th>\n",
       "      <th>...</th>\n",
       "      <th>V21</th>\n",
       "      <th>V22</th>\n",
       "      <th>V23</th>\n",
       "      <th>V24</th>\n",
       "      <th>V25</th>\n",
       "      <th>V26</th>\n",
       "      <th>V27</th>\n",
       "      <th>V28</th>\n",
       "      <th>Amount</th>\n",
       "      <th>Class</th>\n",
       "    </tr>\n",
       "  </thead>\n",
       "  <tbody>\n",
       "    <tr>\n",
       "      <th>0</th>\n",
       "      <td>406.0</td>\n",
       "      <td>-2.312227</td>\n",
       "      <td>1.951992</td>\n",
       "      <td>-1.609851</td>\n",
       "      <td>3.997906</td>\n",
       "      <td>-0.522188</td>\n",
       "      <td>-1.426545</td>\n",
       "      <td>-2.537387</td>\n",
       "      <td>1.391657</td>\n",
       "      <td>-2.770089</td>\n",
       "      <td>...</td>\n",
       "      <td>0.517232</td>\n",
       "      <td>-0.035049</td>\n",
       "      <td>-0.465211</td>\n",
       "      <td>0.320198</td>\n",
       "      <td>0.044519</td>\n",
       "      <td>0.177840</td>\n",
       "      <td>0.261145</td>\n",
       "      <td>-0.143276</td>\n",
       "      <td>0.00</td>\n",
       "      <td>1</td>\n",
       "    </tr>\n",
       "    <tr>\n",
       "      <th>1</th>\n",
       "      <td>472.0</td>\n",
       "      <td>-3.043541</td>\n",
       "      <td>-3.157307</td>\n",
       "      <td>1.088463</td>\n",
       "      <td>2.288644</td>\n",
       "      <td>1.359805</td>\n",
       "      <td>-1.064823</td>\n",
       "      <td>0.325574</td>\n",
       "      <td>-0.067794</td>\n",
       "      <td>-0.270953</td>\n",
       "      <td>...</td>\n",
       "      <td>0.661696</td>\n",
       "      <td>0.435477</td>\n",
       "      <td>1.375966</td>\n",
       "      <td>-0.293803</td>\n",
       "      <td>0.279798</td>\n",
       "      <td>-0.145362</td>\n",
       "      <td>-0.252773</td>\n",
       "      <td>0.035764</td>\n",
       "      <td>529.00</td>\n",
       "      <td>1</td>\n",
       "    </tr>\n",
       "    <tr>\n",
       "      <th>2</th>\n",
       "      <td>4462.0</td>\n",
       "      <td>-2.303350</td>\n",
       "      <td>1.759247</td>\n",
       "      <td>-0.359745</td>\n",
       "      <td>2.330243</td>\n",
       "      <td>-0.821628</td>\n",
       "      <td>-0.075788</td>\n",
       "      <td>0.562320</td>\n",
       "      <td>-0.399147</td>\n",
       "      <td>-0.238253</td>\n",
       "      <td>...</td>\n",
       "      <td>-0.294166</td>\n",
       "      <td>-0.932391</td>\n",
       "      <td>0.172726</td>\n",
       "      <td>-0.087330</td>\n",
       "      <td>-0.156114</td>\n",
       "      <td>-0.542628</td>\n",
       "      <td>0.039566</td>\n",
       "      <td>-0.153029</td>\n",
       "      <td>239.93</td>\n",
       "      <td>1</td>\n",
       "    </tr>\n",
       "    <tr>\n",
       "      <th>3</th>\n",
       "      <td>6986.0</td>\n",
       "      <td>-4.397974</td>\n",
       "      <td>1.358367</td>\n",
       "      <td>-2.592844</td>\n",
       "      <td>2.679787</td>\n",
       "      <td>-1.128131</td>\n",
       "      <td>-1.706536</td>\n",
       "      <td>-3.496197</td>\n",
       "      <td>-0.248778</td>\n",
       "      <td>-0.247768</td>\n",
       "      <td>...</td>\n",
       "      <td>0.573574</td>\n",
       "      <td>0.176968</td>\n",
       "      <td>-0.436207</td>\n",
       "      <td>-0.053502</td>\n",
       "      <td>0.252405</td>\n",
       "      <td>-0.657488</td>\n",
       "      <td>-0.827136</td>\n",
       "      <td>0.849573</td>\n",
       "      <td>59.00</td>\n",
       "      <td>1</td>\n",
       "    </tr>\n",
       "    <tr>\n",
       "      <th>4</th>\n",
       "      <td>7519.0</td>\n",
       "      <td>1.234235</td>\n",
       "      <td>3.019740</td>\n",
       "      <td>-4.304597</td>\n",
       "      <td>4.732795</td>\n",
       "      <td>3.624201</td>\n",
       "      <td>-1.357746</td>\n",
       "      <td>1.713445</td>\n",
       "      <td>-0.496358</td>\n",
       "      <td>-1.282858</td>\n",
       "      <td>...</td>\n",
       "      <td>-0.379068</td>\n",
       "      <td>-0.704181</td>\n",
       "      <td>-0.656805</td>\n",
       "      <td>-1.632653</td>\n",
       "      <td>1.488901</td>\n",
       "      <td>0.566797</td>\n",
       "      <td>-0.010016</td>\n",
       "      <td>0.146793</td>\n",
       "      <td>1.00</td>\n",
       "      <td>1</td>\n",
       "    </tr>\n",
       "    <tr>\n",
       "      <th>...</th>\n",
       "      <td>...</td>\n",
       "      <td>...</td>\n",
       "      <td>...</td>\n",
       "      <td>...</td>\n",
       "      <td>...</td>\n",
       "      <td>...</td>\n",
       "      <td>...</td>\n",
       "      <td>...</td>\n",
       "      <td>...</td>\n",
       "      <td>...</td>\n",
       "      <td>...</td>\n",
       "      <td>...</td>\n",
       "      <td>...</td>\n",
       "      <td>...</td>\n",
       "      <td>...</td>\n",
       "      <td>...</td>\n",
       "      <td>...</td>\n",
       "      <td>...</td>\n",
       "      <td>...</td>\n",
       "      <td>...</td>\n",
       "      <td>...</td>\n",
       "    </tr>\n",
       "    <tr>\n",
       "      <th>4487</th>\n",
       "      <td>81509.0</td>\n",
       "      <td>-1.385579</td>\n",
       "      <td>0.459885</td>\n",
       "      <td>1.428936</td>\n",
       "      <td>0.068607</td>\n",
       "      <td>1.137601</td>\n",
       "      <td>1.135157</td>\n",
       "      <td>-0.065530</td>\n",
       "      <td>0.357976</td>\n",
       "      <td>0.065221</td>\n",
       "      <td>...</td>\n",
       "      <td>0.379135</td>\n",
       "      <td>1.318303</td>\n",
       "      <td>-0.135826</td>\n",
       "      <td>-0.913618</td>\n",
       "      <td>-0.958517</td>\n",
       "      <td>-0.497908</td>\n",
       "      <td>-0.158058</td>\n",
       "      <td>0.222192</td>\n",
       "      <td>20.00</td>\n",
       "      <td>0</td>\n",
       "    </tr>\n",
       "    <tr>\n",
       "      <th>4488</th>\n",
       "      <td>155211.0</td>\n",
       "      <td>-2.244366</td>\n",
       "      <td>1.426116</td>\n",
       "      <td>-2.279739</td>\n",
       "      <td>0.185556</td>\n",
       "      <td>-0.490714</td>\n",
       "      <td>-1.678941</td>\n",
       "      <td>-0.550266</td>\n",
       "      <td>1.236637</td>\n",
       "      <td>-0.200809</td>\n",
       "      <td>...</td>\n",
       "      <td>0.435509</td>\n",
       "      <td>0.950568</td>\n",
       "      <td>0.405304</td>\n",
       "      <td>-0.101811</td>\n",
       "      <td>-0.264427</td>\n",
       "      <td>-0.184416</td>\n",
       "      <td>-1.000495</td>\n",
       "      <td>-0.085063</td>\n",
       "      <td>1.50</td>\n",
       "      <td>0</td>\n",
       "    </tr>\n",
       "    <tr>\n",
       "      <th>4489</th>\n",
       "      <td>54481.0</td>\n",
       "      <td>-0.461711</td>\n",
       "      <td>0.349594</td>\n",
       "      <td>0.647493</td>\n",
       "      <td>-0.040712</td>\n",
       "      <td>2.262127</td>\n",
       "      <td>4.415337</td>\n",
       "      <td>0.304298</td>\n",
       "      <td>0.642811</td>\n",
       "      <td>0.582259</td>\n",
       "      <td>...</td>\n",
       "      <td>-0.207820</td>\n",
       "      <td>0.057295</td>\n",
       "      <td>-0.232410</td>\n",
       "      <td>1.028472</td>\n",
       "      <td>0.189607</td>\n",
       "      <td>-0.295191</td>\n",
       "      <td>0.001684</td>\n",
       "      <td>-0.277416</td>\n",
       "      <td>56.84</td>\n",
       "      <td>0</td>\n",
       "    </tr>\n",
       "    <tr>\n",
       "      <th>4490</th>\n",
       "      <td>45049.0</td>\n",
       "      <td>1.235959</td>\n",
       "      <td>0.205460</td>\n",
       "      <td>0.064665</td>\n",
       "      <td>1.192924</td>\n",
       "      <td>0.262245</td>\n",
       "      <td>0.289409</td>\n",
       "      <td>0.042296</td>\n",
       "      <td>0.038909</td>\n",
       "      <td>0.350539</td>\n",
       "      <td>...</td>\n",
       "      <td>-0.160786</td>\n",
       "      <td>-0.206988</td>\n",
       "      <td>-0.160510</td>\n",
       "      <td>-0.759018</td>\n",
       "      <td>0.776817</td>\n",
       "      <td>-0.259485</td>\n",
       "      <td>0.040027</td>\n",
       "      <td>0.006279</td>\n",
       "      <td>2.00</td>\n",
       "      <td>0</td>\n",
       "    </tr>\n",
       "    <tr>\n",
       "      <th>4491</th>\n",
       "      <td>77680.0</td>\n",
       "      <td>0.975461</td>\n",
       "      <td>-0.235876</td>\n",
       "      <td>-0.120398</td>\n",
       "      <td>1.173055</td>\n",
       "      <td>-0.225071</td>\n",
       "      <td>-0.370368</td>\n",
       "      <td>0.274178</td>\n",
       "      <td>-0.024858</td>\n",
       "      <td>0.088482</td>\n",
       "      <td>...</td>\n",
       "      <td>0.056549</td>\n",
       "      <td>-0.066972</td>\n",
       "      <td>-0.299071</td>\n",
       "      <td>-0.018722</td>\n",
       "      <td>0.763203</td>\n",
       "      <td>-0.281994</td>\n",
       "      <td>-0.027376</td>\n",
       "      <td>0.019239</td>\n",
       "      <td>131.76</td>\n",
       "      <td>0</td>\n",
       "    </tr>\n",
       "  </tbody>\n",
       "</table>\n",
       "<p>4492 rows × 31 columns</p>\n",
       "</div>"
      ],
      "text/plain": [
       "          Time        V1        V2        V3        V4        V5        V6  \\\n",
       "0        406.0 -2.312227  1.951992 -1.609851  3.997906 -0.522188 -1.426545   \n",
       "1        472.0 -3.043541 -3.157307  1.088463  2.288644  1.359805 -1.064823   \n",
       "2       4462.0 -2.303350  1.759247 -0.359745  2.330243 -0.821628 -0.075788   \n",
       "3       6986.0 -4.397974  1.358367 -2.592844  2.679787 -1.128131 -1.706536   \n",
       "4       7519.0  1.234235  3.019740 -4.304597  4.732795  3.624201 -1.357746   \n",
       "...        ...       ...       ...       ...       ...       ...       ...   \n",
       "4487   81509.0 -1.385579  0.459885  1.428936  0.068607  1.137601  1.135157   \n",
       "4488  155211.0 -2.244366  1.426116 -2.279739  0.185556 -0.490714 -1.678941   \n",
       "4489   54481.0 -0.461711  0.349594  0.647493 -0.040712  2.262127  4.415337   \n",
       "4490   45049.0  1.235959  0.205460  0.064665  1.192924  0.262245  0.289409   \n",
       "4491   77680.0  0.975461 -0.235876 -0.120398  1.173055 -0.225071 -0.370368   \n",
       "\n",
       "            V7        V8        V9  ...       V21       V22       V23  \\\n",
       "0    -2.537387  1.391657 -2.770089  ...  0.517232 -0.035049 -0.465211   \n",
       "1     0.325574 -0.067794 -0.270953  ...  0.661696  0.435477  1.375966   \n",
       "2     0.562320 -0.399147 -0.238253  ... -0.294166 -0.932391  0.172726   \n",
       "3    -3.496197 -0.248778 -0.247768  ...  0.573574  0.176968 -0.436207   \n",
       "4     1.713445 -0.496358 -1.282858  ... -0.379068 -0.704181 -0.656805   \n",
       "...        ...       ...       ...  ...       ...       ...       ...   \n",
       "4487 -0.065530  0.357976  0.065221  ...  0.379135  1.318303 -0.135826   \n",
       "4488 -0.550266  1.236637 -0.200809  ...  0.435509  0.950568  0.405304   \n",
       "4489  0.304298  0.642811  0.582259  ... -0.207820  0.057295 -0.232410   \n",
       "4490  0.042296  0.038909  0.350539  ... -0.160786 -0.206988 -0.160510   \n",
       "4491  0.274178 -0.024858  0.088482  ...  0.056549 -0.066972 -0.299071   \n",
       "\n",
       "           V24       V25       V26       V27       V28  Amount  Class  \n",
       "0     0.320198  0.044519  0.177840  0.261145 -0.143276    0.00      1  \n",
       "1    -0.293803  0.279798 -0.145362 -0.252773  0.035764  529.00      1  \n",
       "2    -0.087330 -0.156114 -0.542628  0.039566 -0.153029  239.93      1  \n",
       "3    -0.053502  0.252405 -0.657488 -0.827136  0.849573   59.00      1  \n",
       "4    -1.632653  1.488901  0.566797 -0.010016  0.146793    1.00      1  \n",
       "...        ...       ...       ...       ...       ...     ...    ...  \n",
       "4487 -0.913618 -0.958517 -0.497908 -0.158058  0.222192   20.00      0  \n",
       "4488 -0.101811 -0.264427 -0.184416 -1.000495 -0.085063    1.50      0  \n",
       "4489  1.028472  0.189607 -0.295191  0.001684 -0.277416   56.84      0  \n",
       "4490 -0.759018  0.776817 -0.259485  0.040027  0.006279    2.00      0  \n",
       "4491 -0.018722  0.763203 -0.281994 -0.027376  0.019239  131.76      0  \n",
       "\n",
       "[4492 rows x 31 columns]"
      ]
     },
     "execution_count": 18,
     "metadata": {},
     "output_type": "execute_result"
    }
   ],
   "source": [
    "balanced_data     # 492 of them Class = 1 (fraud), 492 of them Class = 0 (nan_fraud)"
   ]
  },
  {
   "cell_type": "code",
   "execution_count": 19,
   "id": "statewide-specialist",
   "metadata": {
    "execution": {
     "iopub.execute_input": "2022-08-31T16:52:36.100730Z",
     "iopub.status.busy": "2022-08-31T16:52:36.099942Z",
     "iopub.status.idle": "2022-08-31T16:52:36.107363Z",
     "shell.execute_reply": "2022-08-31T16:52:36.108034Z",
     "shell.execute_reply.started": "2021-06-06T17:05:45.025588Z"
    },
    "papermill": {
     "duration": 0.061413,
     "end_time": "2022-08-31T16:52:36.108261",
     "exception": false,
     "start_time": "2022-08-31T16:52:36.046848",
     "status": "completed"
    },
    "tags": []
   },
   "outputs": [
    {
     "data": {
      "text/plain": [
       "0    4000\n",
       "1     492\n",
       "Name: Class, dtype: int64"
      ]
     },
     "execution_count": 19,
     "metadata": {},
     "output_type": "execute_result"
    }
   ],
   "source": [
    "balanced_data.Class.value_counts()"
   ]
  },
  {
   "cell_type": "code",
   "execution_count": 20,
   "id": "prospective-criticism",
   "metadata": {
    "execution": {
     "iopub.execute_input": "2022-08-31T16:52:36.212116Z",
     "iopub.status.busy": "2022-08-31T16:52:36.211339Z",
     "iopub.status.idle": "2022-08-31T16:52:36.246963Z",
     "shell.execute_reply": "2022-08-31T16:52:36.247575Z",
     "shell.execute_reply.started": "2021-06-06T17:05:45.036042Z"
    },
    "papermill": {
     "duration": 0.089624,
     "end_time": "2022-08-31T16:52:36.247794",
     "exception": false,
     "start_time": "2022-08-31T16:52:36.158170",
     "status": "completed"
    },
    "tags": []
   },
   "outputs": [
    {
     "data": {
      "text/html": [
       "<div>\n",
       "<style scoped>\n",
       "    .dataframe tbody tr th:only-of-type {\n",
       "        vertical-align: middle;\n",
       "    }\n",
       "\n",
       "    .dataframe tbody tr th {\n",
       "        vertical-align: top;\n",
       "    }\n",
       "\n",
       "    .dataframe thead th {\n",
       "        text-align: right;\n",
       "    }\n",
       "</style>\n",
       "<table border=\"1\" class=\"dataframe\">\n",
       "  <thead>\n",
       "    <tr style=\"text-align: right;\">\n",
       "      <th></th>\n",
       "      <th>Time</th>\n",
       "      <th>V1</th>\n",
       "      <th>V2</th>\n",
       "      <th>V3</th>\n",
       "      <th>V4</th>\n",
       "      <th>V5</th>\n",
       "      <th>V6</th>\n",
       "      <th>V7</th>\n",
       "      <th>V8</th>\n",
       "      <th>V9</th>\n",
       "      <th>...</th>\n",
       "      <th>V20</th>\n",
       "      <th>V21</th>\n",
       "      <th>V22</th>\n",
       "      <th>V23</th>\n",
       "      <th>V24</th>\n",
       "      <th>V25</th>\n",
       "      <th>V26</th>\n",
       "      <th>V27</th>\n",
       "      <th>V28</th>\n",
       "      <th>Amount</th>\n",
       "    </tr>\n",
       "  </thead>\n",
       "  <tbody>\n",
       "    <tr>\n",
       "      <th>0</th>\n",
       "      <td>406.0</td>\n",
       "      <td>-2.312227</td>\n",
       "      <td>1.951992</td>\n",
       "      <td>-1.609851</td>\n",
       "      <td>3.997906</td>\n",
       "      <td>-0.522188</td>\n",
       "      <td>-1.426545</td>\n",
       "      <td>-2.537387</td>\n",
       "      <td>1.391657</td>\n",
       "      <td>-2.770089</td>\n",
       "      <td>...</td>\n",
       "      <td>0.126911</td>\n",
       "      <td>0.517232</td>\n",
       "      <td>-0.035049</td>\n",
       "      <td>-0.465211</td>\n",
       "      <td>0.320198</td>\n",
       "      <td>0.044519</td>\n",
       "      <td>0.177840</td>\n",
       "      <td>0.261145</td>\n",
       "      <td>-0.143276</td>\n",
       "      <td>0.00</td>\n",
       "    </tr>\n",
       "    <tr>\n",
       "      <th>1</th>\n",
       "      <td>472.0</td>\n",
       "      <td>-3.043541</td>\n",
       "      <td>-3.157307</td>\n",
       "      <td>1.088463</td>\n",
       "      <td>2.288644</td>\n",
       "      <td>1.359805</td>\n",
       "      <td>-1.064823</td>\n",
       "      <td>0.325574</td>\n",
       "      <td>-0.067794</td>\n",
       "      <td>-0.270953</td>\n",
       "      <td>...</td>\n",
       "      <td>2.102339</td>\n",
       "      <td>0.661696</td>\n",
       "      <td>0.435477</td>\n",
       "      <td>1.375966</td>\n",
       "      <td>-0.293803</td>\n",
       "      <td>0.279798</td>\n",
       "      <td>-0.145362</td>\n",
       "      <td>-0.252773</td>\n",
       "      <td>0.035764</td>\n",
       "      <td>529.00</td>\n",
       "    </tr>\n",
       "    <tr>\n",
       "      <th>2</th>\n",
       "      <td>4462.0</td>\n",
       "      <td>-2.303350</td>\n",
       "      <td>1.759247</td>\n",
       "      <td>-0.359745</td>\n",
       "      <td>2.330243</td>\n",
       "      <td>-0.821628</td>\n",
       "      <td>-0.075788</td>\n",
       "      <td>0.562320</td>\n",
       "      <td>-0.399147</td>\n",
       "      <td>-0.238253</td>\n",
       "      <td>...</td>\n",
       "      <td>-0.430022</td>\n",
       "      <td>-0.294166</td>\n",
       "      <td>-0.932391</td>\n",
       "      <td>0.172726</td>\n",
       "      <td>-0.087330</td>\n",
       "      <td>-0.156114</td>\n",
       "      <td>-0.542628</td>\n",
       "      <td>0.039566</td>\n",
       "      <td>-0.153029</td>\n",
       "      <td>239.93</td>\n",
       "    </tr>\n",
       "    <tr>\n",
       "      <th>3</th>\n",
       "      <td>6986.0</td>\n",
       "      <td>-4.397974</td>\n",
       "      <td>1.358367</td>\n",
       "      <td>-2.592844</td>\n",
       "      <td>2.679787</td>\n",
       "      <td>-1.128131</td>\n",
       "      <td>-1.706536</td>\n",
       "      <td>-3.496197</td>\n",
       "      <td>-0.248778</td>\n",
       "      <td>-0.247768</td>\n",
       "      <td>...</td>\n",
       "      <td>-0.171608</td>\n",
       "      <td>0.573574</td>\n",
       "      <td>0.176968</td>\n",
       "      <td>-0.436207</td>\n",
       "      <td>-0.053502</td>\n",
       "      <td>0.252405</td>\n",
       "      <td>-0.657488</td>\n",
       "      <td>-0.827136</td>\n",
       "      <td>0.849573</td>\n",
       "      <td>59.00</td>\n",
       "    </tr>\n",
       "    <tr>\n",
       "      <th>4</th>\n",
       "      <td>7519.0</td>\n",
       "      <td>1.234235</td>\n",
       "      <td>3.019740</td>\n",
       "      <td>-4.304597</td>\n",
       "      <td>4.732795</td>\n",
       "      <td>3.624201</td>\n",
       "      <td>-1.357746</td>\n",
       "      <td>1.713445</td>\n",
       "      <td>-0.496358</td>\n",
       "      <td>-1.282858</td>\n",
       "      <td>...</td>\n",
       "      <td>0.009061</td>\n",
       "      <td>-0.379068</td>\n",
       "      <td>-0.704181</td>\n",
       "      <td>-0.656805</td>\n",
       "      <td>-1.632653</td>\n",
       "      <td>1.488901</td>\n",
       "      <td>0.566797</td>\n",
       "      <td>-0.010016</td>\n",
       "      <td>0.146793</td>\n",
       "      <td>1.00</td>\n",
       "    </tr>\n",
       "    <tr>\n",
       "      <th>...</th>\n",
       "      <td>...</td>\n",
       "      <td>...</td>\n",
       "      <td>...</td>\n",
       "      <td>...</td>\n",
       "      <td>...</td>\n",
       "      <td>...</td>\n",
       "      <td>...</td>\n",
       "      <td>...</td>\n",
       "      <td>...</td>\n",
       "      <td>...</td>\n",
       "      <td>...</td>\n",
       "      <td>...</td>\n",
       "      <td>...</td>\n",
       "      <td>...</td>\n",
       "      <td>...</td>\n",
       "      <td>...</td>\n",
       "      <td>...</td>\n",
       "      <td>...</td>\n",
       "      <td>...</td>\n",
       "      <td>...</td>\n",
       "      <td>...</td>\n",
       "    </tr>\n",
       "    <tr>\n",
       "      <th>4487</th>\n",
       "      <td>81509.0</td>\n",
       "      <td>-1.385579</td>\n",
       "      <td>0.459885</td>\n",
       "      <td>1.428936</td>\n",
       "      <td>0.068607</td>\n",
       "      <td>1.137601</td>\n",
       "      <td>1.135157</td>\n",
       "      <td>-0.065530</td>\n",
       "      <td>0.357976</td>\n",
       "      <td>0.065221</td>\n",
       "      <td>...</td>\n",
       "      <td>-0.587704</td>\n",
       "      <td>0.379135</td>\n",
       "      <td>1.318303</td>\n",
       "      <td>-0.135826</td>\n",
       "      <td>-0.913618</td>\n",
       "      <td>-0.958517</td>\n",
       "      <td>-0.497908</td>\n",
       "      <td>-0.158058</td>\n",
       "      <td>0.222192</td>\n",
       "      <td>20.00</td>\n",
       "    </tr>\n",
       "    <tr>\n",
       "      <th>4488</th>\n",
       "      <td>155211.0</td>\n",
       "      <td>-2.244366</td>\n",
       "      <td>1.426116</td>\n",
       "      <td>-2.279739</td>\n",
       "      <td>0.185556</td>\n",
       "      <td>-0.490714</td>\n",
       "      <td>-1.678941</td>\n",
       "      <td>-0.550266</td>\n",
       "      <td>1.236637</td>\n",
       "      <td>-0.200809</td>\n",
       "      <td>...</td>\n",
       "      <td>-0.993782</td>\n",
       "      <td>0.435509</td>\n",
       "      <td>0.950568</td>\n",
       "      <td>0.405304</td>\n",
       "      <td>-0.101811</td>\n",
       "      <td>-0.264427</td>\n",
       "      <td>-0.184416</td>\n",
       "      <td>-1.000495</td>\n",
       "      <td>-0.085063</td>\n",
       "      <td>1.50</td>\n",
       "    </tr>\n",
       "    <tr>\n",
       "      <th>4489</th>\n",
       "      <td>54481.0</td>\n",
       "      <td>-0.461711</td>\n",
       "      <td>0.349594</td>\n",
       "      <td>0.647493</td>\n",
       "      <td>-0.040712</td>\n",
       "      <td>2.262127</td>\n",
       "      <td>4.415337</td>\n",
       "      <td>0.304298</td>\n",
       "      <td>0.642811</td>\n",
       "      <td>0.582259</td>\n",
       "      <td>...</td>\n",
       "      <td>0.357655</td>\n",
       "      <td>-0.207820</td>\n",
       "      <td>0.057295</td>\n",
       "      <td>-0.232410</td>\n",
       "      <td>1.028472</td>\n",
       "      <td>0.189607</td>\n",
       "      <td>-0.295191</td>\n",
       "      <td>0.001684</td>\n",
       "      <td>-0.277416</td>\n",
       "      <td>56.84</td>\n",
       "    </tr>\n",
       "    <tr>\n",
       "      <th>4490</th>\n",
       "      <td>45049.0</td>\n",
       "      <td>1.235959</td>\n",
       "      <td>0.205460</td>\n",
       "      <td>0.064665</td>\n",
       "      <td>1.192924</td>\n",
       "      <td>0.262245</td>\n",
       "      <td>0.289409</td>\n",
       "      <td>0.042296</td>\n",
       "      <td>0.038909</td>\n",
       "      <td>0.350539</td>\n",
       "      <td>...</td>\n",
       "      <td>-0.177183</td>\n",
       "      <td>-0.160786</td>\n",
       "      <td>-0.206988</td>\n",
       "      <td>-0.160510</td>\n",
       "      <td>-0.759018</td>\n",
       "      <td>0.776817</td>\n",
       "      <td>-0.259485</td>\n",
       "      <td>0.040027</td>\n",
       "      <td>0.006279</td>\n",
       "      <td>2.00</td>\n",
       "    </tr>\n",
       "    <tr>\n",
       "      <th>4491</th>\n",
       "      <td>77680.0</td>\n",
       "      <td>0.975461</td>\n",
       "      <td>-0.235876</td>\n",
       "      <td>-0.120398</td>\n",
       "      <td>1.173055</td>\n",
       "      <td>-0.225071</td>\n",
       "      <td>-0.370368</td>\n",
       "      <td>0.274178</td>\n",
       "      <td>-0.024858</td>\n",
       "      <td>0.088482</td>\n",
       "      <td>...</td>\n",
       "      <td>0.022685</td>\n",
       "      <td>0.056549</td>\n",
       "      <td>-0.066972</td>\n",
       "      <td>-0.299071</td>\n",
       "      <td>-0.018722</td>\n",
       "      <td>0.763203</td>\n",
       "      <td>-0.281994</td>\n",
       "      <td>-0.027376</td>\n",
       "      <td>0.019239</td>\n",
       "      <td>131.76</td>\n",
       "    </tr>\n",
       "  </tbody>\n",
       "</table>\n",
       "<p>4492 rows × 30 columns</p>\n",
       "</div>"
      ],
      "text/plain": [
       "          Time        V1        V2        V3        V4        V5        V6  \\\n",
       "0        406.0 -2.312227  1.951992 -1.609851  3.997906 -0.522188 -1.426545   \n",
       "1        472.0 -3.043541 -3.157307  1.088463  2.288644  1.359805 -1.064823   \n",
       "2       4462.0 -2.303350  1.759247 -0.359745  2.330243 -0.821628 -0.075788   \n",
       "3       6986.0 -4.397974  1.358367 -2.592844  2.679787 -1.128131 -1.706536   \n",
       "4       7519.0  1.234235  3.019740 -4.304597  4.732795  3.624201 -1.357746   \n",
       "...        ...       ...       ...       ...       ...       ...       ...   \n",
       "4487   81509.0 -1.385579  0.459885  1.428936  0.068607  1.137601  1.135157   \n",
       "4488  155211.0 -2.244366  1.426116 -2.279739  0.185556 -0.490714 -1.678941   \n",
       "4489   54481.0 -0.461711  0.349594  0.647493 -0.040712  2.262127  4.415337   \n",
       "4490   45049.0  1.235959  0.205460  0.064665  1.192924  0.262245  0.289409   \n",
       "4491   77680.0  0.975461 -0.235876 -0.120398  1.173055 -0.225071 -0.370368   \n",
       "\n",
       "            V7        V8        V9  ...       V20       V21       V22  \\\n",
       "0    -2.537387  1.391657 -2.770089  ...  0.126911  0.517232 -0.035049   \n",
       "1     0.325574 -0.067794 -0.270953  ...  2.102339  0.661696  0.435477   \n",
       "2     0.562320 -0.399147 -0.238253  ... -0.430022 -0.294166 -0.932391   \n",
       "3    -3.496197 -0.248778 -0.247768  ... -0.171608  0.573574  0.176968   \n",
       "4     1.713445 -0.496358 -1.282858  ...  0.009061 -0.379068 -0.704181   \n",
       "...        ...       ...       ...  ...       ...       ...       ...   \n",
       "4487 -0.065530  0.357976  0.065221  ... -0.587704  0.379135  1.318303   \n",
       "4488 -0.550266  1.236637 -0.200809  ... -0.993782  0.435509  0.950568   \n",
       "4489  0.304298  0.642811  0.582259  ...  0.357655 -0.207820  0.057295   \n",
       "4490  0.042296  0.038909  0.350539  ... -0.177183 -0.160786 -0.206988   \n",
       "4491  0.274178 -0.024858  0.088482  ...  0.022685  0.056549 -0.066972   \n",
       "\n",
       "           V23       V24       V25       V26       V27       V28  Amount  \n",
       "0    -0.465211  0.320198  0.044519  0.177840  0.261145 -0.143276    0.00  \n",
       "1     1.375966 -0.293803  0.279798 -0.145362 -0.252773  0.035764  529.00  \n",
       "2     0.172726 -0.087330 -0.156114 -0.542628  0.039566 -0.153029  239.93  \n",
       "3    -0.436207 -0.053502  0.252405 -0.657488 -0.827136  0.849573   59.00  \n",
       "4    -0.656805 -1.632653  1.488901  0.566797 -0.010016  0.146793    1.00  \n",
       "...        ...       ...       ...       ...       ...       ...     ...  \n",
       "4487 -0.135826 -0.913618 -0.958517 -0.497908 -0.158058  0.222192   20.00  \n",
       "4488  0.405304 -0.101811 -0.264427 -0.184416 -1.000495 -0.085063    1.50  \n",
       "4489 -0.232410  1.028472  0.189607 -0.295191  0.001684 -0.277416   56.84  \n",
       "4490 -0.160510 -0.759018  0.776817 -0.259485  0.040027  0.006279    2.00  \n",
       "4491 -0.299071 -0.018722  0.763203 -0.281994 -0.027376  0.019239  131.76  \n",
       "\n",
       "[4492 rows x 30 columns]"
      ]
     },
     "execution_count": 20,
     "metadata": {},
     "output_type": "execute_result"
    }
   ],
   "source": [
    "x = balanced_data.drop(\"Class\", axis = 1)\n",
    "x                                           # dataset without Class column"
   ]
  },
  {
   "cell_type": "code",
   "execution_count": 21,
   "id": "convinced-offense",
   "metadata": {
    "execution": {
     "iopub.execute_input": "2022-08-31T16:52:36.354263Z",
     "iopub.status.busy": "2022-08-31T16:52:36.353593Z",
     "iopub.status.idle": "2022-08-31T16:52:36.360605Z",
     "shell.execute_reply": "2022-08-31T16:52:36.361169Z",
     "shell.execute_reply.started": "2021-06-06T17:05:45.082898Z"
    },
    "papermill": {
     "duration": 0.061155,
     "end_time": "2022-08-31T16:52:36.361372",
     "exception": false,
     "start_time": "2022-08-31T16:52:36.300217",
     "status": "completed"
    },
    "tags": []
   },
   "outputs": [
    {
     "data": {
      "text/plain": [
       "0       1\n",
       "1       1\n",
       "2       1\n",
       "3       1\n",
       "4       1\n",
       "       ..\n",
       "4487    0\n",
       "4488    0\n",
       "4489    0\n",
       "4490    0\n",
       "4491    0\n",
       "Name: Class, Length: 4492, dtype: int64"
      ]
     },
     "execution_count": 21,
     "metadata": {},
     "output_type": "execute_result"
    }
   ],
   "source": [
    "y = balanced_data.Class\n",
    "y"
   ]
  },
  {
   "cell_type": "code",
   "execution_count": 22,
   "id": "based-conservative",
   "metadata": {
    "execution": {
     "iopub.execute_input": "2022-08-31T16:52:36.468302Z",
     "iopub.status.busy": "2022-08-31T16:52:36.467429Z",
     "iopub.status.idle": "2022-08-31T16:52:36.597531Z",
     "shell.execute_reply": "2022-08-31T16:52:36.598090Z",
     "shell.execute_reply.started": "2021-06-06T17:05:45.091136Z"
    },
    "papermill": {
     "duration": 0.184882,
     "end_time": "2022-08-31T16:52:36.598304",
     "exception": false,
     "start_time": "2022-08-31T16:52:36.413422",
     "status": "completed"
    },
    "tags": []
   },
   "outputs": [
    {
     "data": {
      "image/png": "[encoded data removed]",
      "text/plain": [
       "<Figure size 432x360 with 1 Axes>"
      ]
     },
     "metadata": {
      "needs_background": "light"
     },
     "output_type": "display_data"
    }
   ],
   "source": [
    "plt.figure(figsize = (6,5))\n",
    "sns.countplot(y, palette=\"Set2\")\n",
    "plt.show()"
   ]
  },
  {
   "cell_type": "markdown",
   "id": "stopped-harmony",
   "metadata": {
    "execution": {
     "iopub.execute_input": "2021-05-27T17:08:58.839676Z",
     "iopub.status.busy": "2021-05-27T17:08:58.839329Z",
     "iopub.status.idle": "2021-05-27T17:08:58.844117Z",
     "shell.execute_reply": "2021-05-27T17:08:58.842708Z",
     "shell.execute_reply.started": "2021-05-27T17:08:58.839647Z"
    },
    "papermill": {
     "duration": 0.05126,
     "end_time": "2022-08-31T16:52:36.701103",
     "exception": false,
     "start_time": "2022-08-31T16:52:36.649843",
     "status": "completed"
    },
    "tags": []
   },
   "source": [
    "# Training and Testing Part"
   ]
  },
  {
   "cell_type": "code",
   "execution_count": 23,
   "id": "confidential-winter",
   "metadata": {
    "execution": {
     "iopub.execute_input": "2022-08-31T16:52:36.808589Z",
     "iopub.status.busy": "2022-08-31T16:52:36.807864Z",
     "iopub.status.idle": "2022-08-31T16:52:36.816104Z",
     "shell.execute_reply": "2022-08-31T16:52:36.816704Z",
     "shell.execute_reply.started": "2021-06-06T17:05:45.232324Z"
    },
    "papermill": {
     "duration": 0.063963,
     "end_time": "2022-08-31T16:52:36.816912",
     "exception": false,
     "start_time": "2022-08-31T16:52:36.752949",
     "status": "completed"
    },
    "tags": []
   },
   "outputs": [],
   "source": [
    "xtrain, xtest, ytrain, ytest = train_test_split(x, y, test_size = 0.2, random_state = 42)"
   ]
  },
  {
   "cell_type": "code",
   "execution_count": 24,
   "id": "appointed-humanity",
   "metadata": {
    "execution": {
     "iopub.execute_input": "2022-08-31T16:52:36.924406Z",
     "iopub.status.busy": "2022-08-31T16:52:36.923678Z",
     "iopub.status.idle": "2022-08-31T16:52:36.928447Z",
     "shell.execute_reply": "2022-08-31T16:52:36.929022Z",
     "shell.execute_reply.started": "2021-06-06T17:05:45.243260Z"
    },
    "papermill": {
     "duration": 0.059908,
     "end_time": "2022-08-31T16:52:36.929220",
     "exception": false,
     "start_time": "2022-08-31T16:52:36.869312",
     "status": "completed"
    },
    "tags": []
   },
   "outputs": [
    {
     "data": {
      "text/plain": [
       "(3593, 30)"
      ]
     },
     "execution_count": 24,
     "metadata": {},
     "output_type": "execute_result"
    }
   ],
   "source": [
    "xtrain.shape"
   ]
  },
  {
   "cell_type": "code",
   "execution_count": 25,
   "id": "stupid-directive",
   "metadata": {
    "execution": {
     "iopub.execute_input": "2022-08-31T16:52:37.038348Z",
     "iopub.status.busy": "2022-08-31T16:52:37.037671Z",
     "iopub.status.idle": "2022-08-31T16:52:37.042521Z",
     "shell.execute_reply": "2022-08-31T16:52:37.043133Z",
     "shell.execute_reply.started": "2021-06-06T17:05:45.255538Z"
    },
    "papermill": {
     "duration": 0.061174,
     "end_time": "2022-08-31T16:52:37.043357",
     "exception": false,
     "start_time": "2022-08-31T16:52:36.982183",
     "status": "completed"
    },
    "tags": []
   },
   "outputs": [
    {
     "data": {
      "text/plain": [
       "(899, 30)"
      ]
     },
     "execution_count": 25,
     "metadata": {},
     "output_type": "execute_result"
    }
   ],
   "source": [
    "xtest.shape"
   ]
  },
  {
   "cell_type": "markdown",
   "id": "earlier-georgia",
   "metadata": {
    "papermill": {
     "duration": 0.053356,
     "end_time": "2022-08-31T16:52:37.149353",
     "exception": false,
     "start_time": "2022-08-31T16:52:37.095997",
     "status": "completed"
    },
    "tags": []
   },
   "source": [
    "# Standardation"
   ]
  },
  {
   "cell_type": "code",
   "execution_count": 26,
   "id": "trained-painting",
   "metadata": {
    "execution": {
     "iopub.execute_input": "2022-08-31T16:52:37.258276Z",
     "iopub.status.busy": "2022-08-31T16:52:37.257462Z",
     "iopub.status.idle": "2022-08-31T16:52:37.261121Z",
     "shell.execute_reply": "2022-08-31T16:52:37.261793Z",
     "shell.execute_reply.started": "2021-06-06T17:05:45.271269Z"
    },
    "papermill": {
     "duration": 0.059383,
     "end_time": "2022-08-31T16:52:37.261999",
     "exception": false,
     "start_time": "2022-08-31T16:52:37.202616",
     "status": "completed"
    },
    "tags": []
   },
   "outputs": [],
   "source": [
    "scaler = StandardScaler()"
   ]
  },
  {
   "cell_type": "code",
   "execution_count": 27,
   "id": "celtic-spank",
   "metadata": {
    "execution": {
     "iopub.execute_input": "2022-08-31T16:52:37.371115Z",
     "iopub.status.busy": "2022-08-31T16:52:37.370365Z",
     "iopub.status.idle": "2022-08-31T16:52:37.386626Z",
     "shell.execute_reply": "2022-08-31T16:52:37.387204Z",
     "shell.execute_reply.started": "2021-06-06T17:05:45.280264Z"
    },
    "papermill": {
     "duration": 0.072021,
     "end_time": "2022-08-31T16:52:37.387423",
     "exception": false,
     "start_time": "2022-08-31T16:52:37.315402",
     "status": "completed"
    },
    "tags": []
   },
   "outputs": [],
   "source": [
    "scaled_xtrain = scaler.fit_transform(xtrain)\n",
    "scaled_xtest = scaler.fit_transform(xtest)"
   ]
  },
  {
   "cell_type": "code",
   "execution_count": 28,
   "id": "adopted-throw",
   "metadata": {
    "execution": {
     "iopub.execute_input": "2022-08-31T16:52:37.495342Z",
     "iopub.status.busy": "2022-08-31T16:52:37.494650Z",
     "iopub.status.idle": "2022-08-31T16:52:37.500353Z",
     "shell.execute_reply": "2022-08-31T16:52:37.500990Z",
     "shell.execute_reply.started": "2021-06-06T17:05:45.308971Z"
    },
    "papermill": {
     "duration": 0.061519,
     "end_time": "2022-08-31T16:52:37.501186",
     "exception": false,
     "start_time": "2022-08-31T16:52:37.439667",
     "status": "completed"
    },
    "tags": []
   },
   "outputs": [
    {
     "data": {
      "text/plain": [
       "array([[-1.21177715, -1.32927164,  2.18927628, ...,  0.30376772,\n",
       "         1.13010994,  0.09769728],\n",
       "       [-1.80537971, -0.32377652,  1.19556558, ...,  0.39243591,\n",
       "         0.36883527, -0.40324103],\n",
       "       [-0.74179421, -0.40385987,  0.18042516, ..., -0.50340845,\n",
       "        -0.81750513, -0.2906996 ],\n",
       "       ...,\n",
       "       [-1.04747985, -0.12521989,  0.06565137, ...,  0.07979142,\n",
       "         0.17096896, -0.40242649],\n",
       "       [ 0.83391152,  0.18771709, -0.02066781, ...,  0.12667912,\n",
       "         0.13616902, -0.37387256],\n",
       "       [ 0.4054101 ,  0.79012894, -0.23936665, ..., -0.05266441,\n",
       "        -0.19809329, -0.40324103]])"
      ]
     },
     "execution_count": 28,
     "metadata": {},
     "output_type": "execute_result"
    }
   ],
   "source": [
    "scaled_xtrain"
   ]
  },
  {
   "cell_type": "code",
   "execution_count": 29,
   "id": "passive-kuwait",
   "metadata": {
    "execution": {
     "iopub.execute_input": "2022-08-31T16:52:37.610606Z",
     "iopub.status.busy": "2022-08-31T16:52:37.609765Z",
     "iopub.status.idle": "2022-08-31T16:52:37.614671Z",
     "shell.execute_reply": "2022-08-31T16:52:37.615259Z",
     "shell.execute_reply.started": "2021-06-06T17:05:45.319754Z"
    },
    "papermill": {
     "duration": 0.061758,
     "end_time": "2022-08-31T16:52:37.615454",
     "exception": false,
     "start_time": "2022-08-31T16:52:37.553696",
     "status": "completed"
    },
    "tags": []
   },
   "outputs": [
    {
     "data": {
      "text/plain": [
       "numpy.ndarray"
      ]
     },
     "execution_count": 29,
     "metadata": {},
     "output_type": "execute_result"
    }
   ],
   "source": [
    "type(scaled_xtrain)"
   ]
  },
  {
   "cell_type": "code",
   "execution_count": 30,
   "id": "pregnant-candle",
   "metadata": {
    "execution": {
     "iopub.execute_input": "2022-08-31T16:52:37.725411Z",
     "iopub.status.busy": "2022-08-31T16:52:37.724690Z",
     "iopub.status.idle": "2022-08-31T16:52:37.731989Z",
     "shell.execute_reply": "2022-08-31T16:52:37.731403Z",
     "shell.execute_reply.started": "2021-06-06T17:05:45.329325Z"
    },
    "papermill": {
     "duration": 0.064185,
     "end_time": "2022-08-31T16:52:37.732147",
     "exception": false,
     "start_time": "2022-08-31T16:52:37.667962",
     "status": "completed"
    },
    "tags": []
   },
   "outputs": [
    {
     "data": {
      "text/plain": [
       "array([[-0.95140882, -0.05846298,  0.36984746, ...,  0.03037459,\n",
       "         0.48113979, -0.28529246],\n",
       "       [-0.50406944, -0.18027387,  0.03168336, ..., -0.50929599,\n",
       "         0.20385066, -0.30294257],\n",
       "       [-1.2151784 , -0.23419969,  0.19135367, ..., -0.11387564,\n",
       "        -0.16224663, -0.27713801],\n",
       "       ...,\n",
       "       [-1.01480853, -0.2230765 , -0.67622131, ...,  0.1978148 ,\n",
       "         0.07447846, -0.25197721],\n",
       "       [-1.26754362,  0.5169051 , -0.22164969, ...,  0.02153748,\n",
       "         0.09596764, -0.2747775 ],\n",
       "       [-0.13576375,  0.48333263, -0.83716012, ..., -0.08081719,\n",
       "         0.16460633,  0.54144617]])"
      ]
     },
     "execution_count": 30,
     "metadata": {},
     "output_type": "execute_result"
    }
   ],
   "source": [
    "scaled_xtest"
   ]
  },
  {
   "cell_type": "code",
   "execution_count": 31,
   "id": "needed-prayer",
   "metadata": {
    "execution": {
     "iopub.execute_input": "2022-08-31T16:52:37.846317Z",
     "iopub.status.busy": "2022-08-31T16:52:37.845312Z",
     "iopub.status.idle": "2022-08-31T16:52:37.849968Z",
     "shell.execute_reply": "2022-08-31T16:52:37.849387Z",
     "shell.execute_reply.started": "2021-06-06T17:05:45.342011Z"
    },
    "papermill": {
     "duration": 0.064047,
     "end_time": "2022-08-31T16:52:37.850137",
     "exception": false,
     "start_time": "2022-08-31T16:52:37.786090",
     "status": "completed"
    },
    "tags": []
   },
   "outputs": [
    {
     "data": {
      "text/plain": [
       "numpy.ndarray"
      ]
     },
     "execution_count": 31,
     "metadata": {},
     "output_type": "execute_result"
    }
   ],
   "source": [
    "type(scaled_xtest)"
   ]
  },
  {
   "cell_type": "code",
   "execution_count": 32,
   "id": "durable-paste",
   "metadata": {
    "execution": {
     "iopub.execute_input": "2022-08-31T16:52:37.965394Z",
     "iopub.status.busy": "2022-08-31T16:52:37.964367Z",
     "iopub.status.idle": "2022-08-31T16:52:37.968438Z",
     "shell.execute_reply": "2022-08-31T16:52:37.968982Z",
     "shell.execute_reply.started": "2021-06-06T17:05:45.353765Z"
    },
    "papermill": {
     "duration": 0.064559,
     "end_time": "2022-08-31T16:52:37.969198",
     "exception": false,
     "start_time": "2022-08-31T16:52:37.904639",
     "status": "completed"
    },
    "tags": []
   },
   "outputs": [
    {
     "name": "stdout",
     "output_type": "stream",
     "text": [
      "(3593, 30)\n",
      "(899, 30)\n"
     ]
    }
   ],
   "source": [
    "print(scaled_xtrain.shape)\n",
    "print(scaled_xtest.shape)"
   ]
  },
  {
   "cell_type": "code",
   "execution_count": 33,
   "id": "important-crowd",
   "metadata": {
    "execution": {
     "iopub.execute_input": "2022-08-31T16:52:38.084138Z",
     "iopub.status.busy": "2022-08-31T16:52:38.083051Z",
     "iopub.status.idle": "2022-08-31T16:52:38.087912Z",
     "shell.execute_reply": "2022-08-31T16:52:38.087292Z",
     "shell.execute_reply.started": "2021-06-06T17:05:45.365217Z"
    },
    "papermill": {
     "duration": 0.064297,
     "end_time": "2022-08-31T16:52:38.088077",
     "exception": false,
     "start_time": "2022-08-31T16:52:38.023780",
     "status": "completed"
    },
    "tags": []
   },
   "outputs": [
    {
     "name": "stdout",
     "output_type": "stream",
     "text": [
      "(3593,)\n",
      "(899,)\n"
     ]
    }
   ],
   "source": [
    "print(ytrain.shape)\n",
    "print(ytest.shape)"
   ]
  },
  {
   "cell_type": "code",
   "execution_count": 34,
   "id": "sitting-browser",
   "metadata": {
    "execution": {
     "iopub.execute_input": "2022-08-31T16:52:38.205732Z",
     "iopub.status.busy": "2022-08-31T16:52:38.204677Z",
     "iopub.status.idle": "2022-08-31T16:52:38.210921Z",
     "shell.execute_reply": "2022-08-31T16:52:38.211579Z",
     "shell.execute_reply.started": "2021-06-06T17:05:45.381087Z"
    },
    "papermill": {
     "duration": 0.068053,
     "end_time": "2022-08-31T16:52:38.211782",
     "exception": false,
     "start_time": "2022-08-31T16:52:38.143729",
     "status": "completed"
    },
    "tags": []
   },
   "outputs": [
    {
     "data": {
      "text/plain": [
       "284807"
      ]
     },
     "execution_count": 34,
     "metadata": {},
     "output_type": "execute_result"
    }
   ],
   "source": [
    "190820+93987 # Total dataset rows"
   ]
  },
  {
   "cell_type": "markdown",
   "id": "accredited-ultimate",
   "metadata": {
    "papermill": {
     "duration": 0.055288,
     "end_time": "2022-08-31T16:52:38.323603",
     "exception": false,
     "start_time": "2022-08-31T16:52:38.268315",
     "status": "completed"
    },
    "tags": []
   },
   "source": [
    "# 3D Format"
   ]
  },
  {
   "cell_type": "code",
   "execution_count": 35,
   "id": "prospective-competition",
   "metadata": {
    "execution": {
     "iopub.execute_input": "2022-08-31T16:52:38.438225Z",
     "iopub.status.busy": "2022-08-31T16:52:38.437167Z",
     "iopub.status.idle": "2022-08-31T16:52:38.444672Z",
     "shell.execute_reply": "2022-08-31T16:52:38.445264Z",
     "shell.execute_reply.started": "2021-06-06T17:05:45.393654Z"
    },
    "papermill": {
     "duration": 0.066616,
     "end_time": "2022-08-31T16:52:38.445466",
     "exception": false,
     "start_time": "2022-08-31T16:52:38.378850",
     "status": "completed"
    },
    "tags": []
   },
   "outputs": [
    {
     "data": {
      "text/plain": [
       "((3593, 30, 1), (899, 30, 1))"
      ]
     },
     "execution_count": 35,
     "metadata": {},
     "output_type": "execute_result"
    }
   ],
   "source": [
    "scaled_xtrain3d = scaled_xtrain.reshape(scaled_xtrain.shape[0],scaled_xtrain.shape[1],1)\n",
    "scaled_xtest3d = scaled_xtest.reshape(scaled_xtest.shape[0],scaled_xtest.shape[1],1)\n",
    "\n",
    "scaled_xtrain3d.shape, scaled_xtest3d.shape"
   ]
  },
  {
   "cell_type": "markdown",
   "id": "mathematical-think",
   "metadata": {
    "papermill": {
     "duration": 0.055301,
     "end_time": "2022-08-31T16:52:38.555930",
     "exception": false,
     "start_time": "2022-08-31T16:52:38.500629",
     "status": "completed"
    },
    "tags": []
   },
   "source": [
    "# CNN Implementation"
   ]
  },
  {
   "cell_type": "code",
   "execution_count": 36,
   "id": "cloudy-compromise",
   "metadata": {
    "execution": {
     "iopub.execute_input": "2022-08-31T16:52:38.671347Z",
     "iopub.status.busy": "2022-08-31T16:52:38.670302Z",
     "iopub.status.idle": "2022-08-31T16:52:38.781043Z",
     "shell.execute_reply": "2022-08-31T16:52:38.780164Z",
     "shell.execute_reply.started": "2021-06-06T17:05:45.408068Z"
    },
    "papermill": {
     "duration": 0.170206,
     "end_time": "2022-08-31T16:52:38.781231",
     "exception": false,
     "start_time": "2022-08-31T16:52:38.611025",
     "status": "completed"
    },
    "tags": []
   },
   "outputs": [],
   "source": [
    "# First Layer:\n",
    "\n",
    "cnn = Sequential()\n",
    "cnn.add(Conv1D(32, 2, activation = \"relu\", input_shape = (30,1)))\n",
    "cnn.add(Dropout(0.1))"
   ]
  },
  {
   "cell_type": "code",
   "execution_count": 37,
   "id": "incorporated-breast",
   "metadata": {
    "execution": {
     "iopub.execute_input": "2022-08-31T16:52:38.901906Z",
     "iopub.status.busy": "2022-08-31T16:52:38.901119Z",
     "iopub.status.idle": "2022-08-31T16:52:38.938762Z",
     "shell.execute_reply": "2022-08-31T16:52:38.938018Z",
     "shell.execute_reply.started": "2021-06-06T17:05:45.502888Z"
    },
    "papermill": {
     "duration": 0.102413,
     "end_time": "2022-08-31T16:52:38.938940",
     "exception": false,
     "start_time": "2022-08-31T16:52:38.836527",
     "status": "completed"
    },
    "tags": []
   },
   "outputs": [],
   "source": [
    "# Second Layer:\n",
    "\n",
    "cnn.add(BatchNormalization()) # Batch normalization is a technique for training very deep neural networks \n",
    "                               # that standardizes the inputs to a layer for each mini-batch. This \n",
    "                               # has the effect of stabilizing the learning process and dramatically\n",
    "                               # reducing the number of training epochs required to train deep networks\n",
    "\n",
    "cnn.add(Conv1D(64, 2, activation = \"relu\"))\n",
    "cnn.add(Dropout(0.2))          # prevents over-fitting (randomly remove some neurons)"
   ]
  },
  {
   "cell_type": "code",
   "execution_count": 38,
   "id": "joined-hybrid",
   "metadata": {
    "execution": {
     "iopub.execute_input": "2022-08-31T16:52:39.059510Z",
     "iopub.status.busy": "2022-08-31T16:52:39.057410Z",
     "iopub.status.idle": "2022-08-31T16:52:39.083357Z",
     "shell.execute_reply": "2022-08-31T16:52:39.082738Z",
     "shell.execute_reply.started": "2021-06-06T17:05:45.541057Z"
    },
    "papermill": {
     "duration": 0.088756,
     "end_time": "2022-08-31T16:52:39.083518",
     "exception": false,
     "start_time": "2022-08-31T16:52:38.994762",
     "status": "completed"
    },
    "tags": []
   },
   "outputs": [],
   "source": [
    "# Flattening Layer:\n",
    "\n",
    "cnn.add(Flatten())\n",
    "cnn.add(Dropout(0.4))\n",
    "cnn.add(Dense(64, activation = \"relu\"))\n",
    "cnn.add(Dropout(0.5))"
   ]
  },
  {
   "cell_type": "code",
   "execution_count": 39,
   "id": "fatal-stopping",
   "metadata": {
    "execution": {
     "iopub.execute_input": "2022-08-31T16:52:39.202267Z",
     "iopub.status.busy": "2022-08-31T16:52:39.201228Z",
     "iopub.status.idle": "2022-08-31T16:52:39.212881Z",
     "shell.execute_reply": "2022-08-31T16:52:39.212238Z",
     "shell.execute_reply.started": "2021-06-06T17:05:45.571084Z"
    },
    "papermill": {
     "duration": 0.073382,
     "end_time": "2022-08-31T16:52:39.213044",
     "exception": false,
     "start_time": "2022-08-31T16:52:39.139662",
     "status": "completed"
    },
    "tags": []
   },
   "outputs": [],
   "source": [
    "# Last Layer:\n",
    "\n",
    "cnn.add(Dense(1, activation = \"sigmoid\"))"
   ]
  },
  {
   "cell_type": "code",
   "execution_count": 40,
   "id": "attractive-greene",
   "metadata": {
    "execution": {
     "iopub.execute_input": "2022-08-31T16:52:39.333141Z",
     "iopub.status.busy": "2022-08-31T16:52:39.331939Z",
     "iopub.status.idle": "2022-08-31T16:52:39.339998Z",
     "shell.execute_reply": "2022-08-31T16:52:39.339054Z",
     "shell.execute_reply.started": "2021-06-06T17:05:45.586919Z"
    },
    "papermill": {
     "duration": 0.070824,
     "end_time": "2022-08-31T16:52:39.340192",
     "exception": false,
     "start_time": "2022-08-31T16:52:39.269368",
     "status": "completed"
    },
    "tags": []
   },
   "outputs": [
    {
     "name": "stdout",
     "output_type": "stream",
     "text": [
      "Model: \"sequential\"\n",
      "_________________________________________________________________\n",
      "Layer (type)                 Output Shape              Param #   \n",
      "=================================================================\n",
      "conv1d (Conv1D)              (None, 29, 32)            96        \n",
      "_________________________________________________________________\n",
      "dropout (Dropout)            (None, 29, 32)            0         \n",
      "_________________________________________________________________\n",
      "batch_normalization (BatchNo (None, 29, 32)            128       \n",
      "_________________________________________________________________\n",
      "conv1d_1 (Conv1D)            (None, 28, 64)            4160      \n",
      "_________________________________________________________________\n",
      "dropout_1 (Dropout)          (None, 28, 64)            0         \n",
      "_________________________________________________________________\n",
      "flatten (Flatten)            (None, 1792)              0         \n",
      "_________________________________________________________________\n",
      "dropout_2 (Dropout)          (None, 1792)              0         \n",
      "_________________________________________________________________\n",
      "dense (Dense)                (None, 64)                114752    \n",
      "_________________________________________________________________\n",
      "dropout_3 (Dropout)          (None, 64)                0         \n",
      "_________________________________________________________________\n",
      "dense_1 (Dense)              (None, 1)                 65        \n",
      "=================================================================\n",
      "Total params: 119,201\n",
      "Trainable params: 119,137\n",
      "Non-trainable params: 64\n",
      "_________________________________________________________________\n"
     ]
    }
   ],
   "source": [
    "cnn.summary()"
   ]
  },
  {
   "cell_type": "code",
   "execution_count": 41,
   "id": "unauthorized-finding",
   "metadata": {
    "execution": {
     "iopub.execute_input": "2022-08-31T16:52:39.456748Z",
     "iopub.status.busy": "2022-08-31T16:52:39.455980Z",
     "iopub.status.idle": "2022-08-31T16:52:40.117925Z",
     "shell.execute_reply": "2022-08-31T16:52:40.118445Z",
     "shell.execute_reply.started": "2021-06-06T17:05:45.597055Z"
    },
    "papermill": {
     "duration": 0.722591,
     "end_time": "2022-08-31T16:52:40.118714",
     "exception": false,
     "start_time": "2022-08-31T16:52:39.396123",
     "status": "completed"
    },
    "tags": []
   },
   "outputs": [
    {
     "data": {
      "image/png": "[encoded data removed]",
      "text/plain": [
       "<IPython.core.display.Image object>"
      ]
     },
     "execution_count": 41,
     "metadata": {},
     "output_type": "execute_result"
    }
   ],
   "source": [
    "from keras.utils import plot_model\n",
    "plot_model(cnn)"
   ]
  },
  {
   "cell_type": "code",
   "execution_count": 42,
   "id": "soviet-advancement",
   "metadata": {
    "execution": {
     "iopub.execute_input": "2022-08-31T16:52:40.256806Z",
     "iopub.status.busy": "2022-08-31T16:52:40.255746Z",
     "iopub.status.idle": "2022-08-31T16:52:40.263405Z",
     "shell.execute_reply": "2022-08-31T16:52:40.263996Z",
     "shell.execute_reply.started": "2021-06-06T17:05:46.088370Z"
    },
    "papermill": {
     "duration": 0.083614,
     "end_time": "2022-08-31T16:52:40.264209",
     "exception": false,
     "start_time": "2022-08-31T16:52:40.180595",
     "status": "completed"
    },
    "tags": []
   },
   "outputs": [],
   "source": [
    "cnn.compile(optimizer = Adam(lr=0.0001), loss = \"binary_crossentropy\", metrics = [\"accuracy\"])"
   ]
  },
  {
   "cell_type": "code",
   "execution_count": 43,
   "id": "sunset-directory",
   "metadata": {
    "execution": {
     "iopub.execute_input": "2022-08-31T16:52:40.383434Z",
     "iopub.status.busy": "2022-08-31T16:52:40.382389Z",
     "iopub.status.idle": "2022-08-31T16:53:01.606175Z",
     "shell.execute_reply": "2022-08-31T16:53:01.606835Z",
     "shell.execute_reply.started": "2021-06-06T17:05:46.112998Z"
    },
    "papermill": {
     "duration": 21.28422,
     "end_time": "2022-08-31T16:53:01.607066",
     "exception": false,
     "start_time": "2022-08-31T16:52:40.322846",
     "status": "completed"
    },
    "tags": []
   },
   "outputs": [
    {
     "name": "stdout",
     "output_type": "stream",
     "text": [
      "Epoch 1/20\n",
      "113/113 [==============================] - 3s 15ms/step - loss: 0.5406 - accuracy: 0.7555 - val_loss: 0.3773 - val_accuracy: 0.9744\n",
      "Epoch 2/20\n",
      "113/113 [==============================] - 1s 9ms/step - loss: 0.1328 - accuracy: 0.9674 - val_loss: 0.1737 - val_accuracy: 0.9833\n",
      "Epoch 3/20\n",
      "113/113 [==============================] - 1s 9ms/step - loss: 0.1281 - accuracy: 0.9705 - val_loss: 0.0875 - val_accuracy: 0.9844\n",
      "Epoch 4/20\n",
      "113/113 [==============================] - 1s 9ms/step - loss: 0.1065 - accuracy: 0.9753 - val_loss: 0.0599 - val_accuracy: 0.9844\n",
      "Epoch 5/20\n",
      "113/113 [==============================] - 1s 8ms/step - loss: 0.0997 - accuracy: 0.9755 - val_loss: 0.0532 - val_accuracy: 0.9844\n",
      "Epoch 6/20\n",
      "113/113 [==============================] - 1s 8ms/step - loss: 0.0969 - accuracy: 0.9713 - val_loss: 0.0510 - val_accuracy: 0.9855\n",
      "Epoch 7/20\n",
      "113/113 [==============================] - 1s 8ms/step - loss: 0.0859 - accuracy: 0.9761 - val_loss: 0.0491 - val_accuracy: 0.9889\n",
      "Epoch 8/20\n",
      "113/113 [==============================] - 1s 8ms/step - loss: 0.0825 - accuracy: 0.9797 - val_loss: 0.0480 - val_accuracy: 0.9900\n",
      "Epoch 9/20\n",
      "113/113 [==============================] - 1s 8ms/step - loss: 0.0742 - accuracy: 0.9791 - val_loss: 0.0481 - val_accuracy: 0.9900\n",
      "Epoch 10/20\n",
      "113/113 [==============================] - 1s 9ms/step - loss: 0.0895 - accuracy: 0.9765 - val_loss: 0.0477 - val_accuracy: 0.9889\n",
      "Epoch 11/20\n",
      "113/113 [==============================] - 1s 9ms/step - loss: 0.0852 - accuracy: 0.9759 - val_loss: 0.0481 - val_accuracy: 0.9889\n",
      "Epoch 12/20\n",
      "113/113 [==============================] - 1s 9ms/step - loss: 0.0827 - accuracy: 0.9795 - val_loss: 0.0475 - val_accuracy: 0.9889\n",
      "Epoch 13/20\n",
      "113/113 [==============================] - 1s 9ms/step - loss: 0.0820 - accuracy: 0.9789 - val_loss: 0.0474 - val_accuracy: 0.9911\n",
      "Epoch 14/20\n",
      "113/113 [==============================] - 1s 8ms/step - loss: 0.0710 - accuracy: 0.9816 - val_loss: 0.0470 - val_accuracy: 0.9900\n",
      "Epoch 15/20\n",
      "113/113 [==============================] - 1s 9ms/step - loss: 0.0751 - accuracy: 0.9799 - val_loss: 0.0466 - val_accuracy: 0.9911\n",
      "Epoch 16/20\n",
      "113/113 [==============================] - 1s 9ms/step - loss: 0.0768 - accuracy: 0.9782 - val_loss: 0.0465 - val_accuracy: 0.9900\n",
      "Epoch 17/20\n",
      "113/113 [==============================] - 1s 8ms/step - loss: 0.0646 - accuracy: 0.9817 - val_loss: 0.0465 - val_accuracy: 0.9878\n",
      "Epoch 18/20\n",
      "113/113 [==============================] - 1s 8ms/step - loss: 0.0848 - accuracy: 0.9779 - val_loss: 0.0460 - val_accuracy: 0.9900\n",
      "Epoch 19/20\n",
      "113/113 [==============================] - 1s 8ms/step - loss: 0.0712 - accuracy: 0.9828 - val_loss: 0.0460 - val_accuracy: 0.9900\n",
      "Epoch 20/20\n",
      "113/113 [==============================] - 1s 8ms/step - loss: 0.0694 - accuracy: 0.9787 - val_loss: 0.0462 - val_accuracy: 0.9900\n"
     ]
    }
   ],
   "source": [
    "history = cnn.fit(scaled_xtrain3d, ytrain, epochs = 20, validation_data=(scaled_xtest3d, ytest), verbose=1)"
   ]
  },
  {
   "cell_type": "code",
   "execution_count": 44,
   "id": "moral-journalism",
   "metadata": {
    "execution": {
     "iopub.execute_input": "2022-08-31T16:53:01.918291Z",
     "iopub.status.busy": "2022-08-31T16:53:01.917204Z",
     "iopub.status.idle": "2022-08-31T16:53:02.115849Z",
     "shell.execute_reply": "2022-08-31T16:53:02.116324Z",
     "shell.execute_reply.started": "2021-06-06T17:06:04.490950Z"
    },
    "papermill": {
     "duration": 0.355279,
     "end_time": "2022-08-31T16:53:02.116557",
     "exception": false,
     "start_time": "2022-08-31T16:53:01.761278",
     "status": "completed"
    },
    "tags": []
   },
   "outputs": [
    {
     "data": {
      "image/png": "[encoded data removed]",
      "text/plain": [
       "<Figure size 720x360 with 1 Axes>"
      ]
     },
     "metadata": {
      "needs_background": "light"
     },
     "output_type": "display_data"
    }
   ],
   "source": [
    "fig, ax1 = plt.subplots(figsize= (10, 5))\n",
    "plt.plot(history.history[\"accuracy\"])\n",
    "plt.plot(history.history[\"val_accuracy\"])\n",
    "plt.title(\"Model accuracy\")\n",
    "plt.ylabel(\"Accuracy\")\n",
    "plt.xlabel(\"Epoch\")\n",
    "plt.legend([\"Train\", \"Test\"], loc = \"upper left\")\n",
    "plt.show()"
   ]
  },
  {
   "cell_type": "code",
   "execution_count": 45,
   "id": "placed-cooking",
   "metadata": {
    "execution": {
     "iopub.execute_input": "2022-08-31T16:53:02.428421Z",
     "iopub.status.busy": "2022-08-31T16:53:02.427331Z",
     "iopub.status.idle": "2022-08-31T16:53:02.616503Z",
     "shell.execute_reply": "2022-08-31T16:53:02.615901Z",
     "shell.execute_reply.started": "2021-06-06T17:06:04.687274Z"
    },
    "papermill": {
     "duration": 0.345663,
     "end_time": "2022-08-31T16:53:02.616716",
     "exception": false,
     "start_time": "2022-08-31T16:53:02.271053",
     "status": "completed"
    },
    "tags": []
   },
   "outputs": [
    {
     "data": {
      "image/png": "[encoded data removed]",
      "text/plain": [
       "<Figure size 720x360 with 1 Axes>"
      ]
     },
     "metadata": {
      "needs_background": "light"
     },
     "output_type": "display_data"
    }
   ],
   "source": [
    "fig, ax1 = plt.subplots(figsize= (10, 5))\n",
    "plt.plot(history.history[\"loss\"])\n",
    "plt.plot(history.history[\"val_loss\"])\n",
    "plt.title(\"Model loss\")\n",
    "plt.ylabel(\"Loss\")\n",
    "plt.xlabel(\"Epoch\")\n",
    "plt.legend([\"Train\", \"Test\"], loc = \"upper left\")\n",
    "plt.show()"
   ]
  },
  {
   "cell_type": "code",
   "execution_count": 46,
   "id": "pleasant-swedish",
   "metadata": {
    "execution": {
     "iopub.execute_input": "2022-08-31T16:53:02.929376Z",
     "iopub.status.busy": "2022-08-31T16:53:02.928308Z",
     "iopub.status.idle": "2022-08-31T16:53:03.307188Z",
     "shell.execute_reply": "2022-08-31T16:53:03.307729Z",
     "shell.execute_reply.started": "2021-06-06T17:06:04.885759Z"
    },
    "papermill": {
     "duration": 0.537891,
     "end_time": "2022-08-31T16:53:03.307960",
     "exception": false,
     "start_time": "2022-08-31T16:53:02.770069",
     "status": "completed"
    },
    "tags": []
   },
   "outputs": [
    {
     "data": {
      "image/png": "[encoded data removed]",
      "text/plain": [
       "<Figure size 432x288 with 1 Axes>"
      ]
     },
     "metadata": {
      "needs_background": "light"
     },
     "output_type": "display_data"
    }
   ],
   "source": [
    "from sklearn.metrics import confusion_matrix\n",
    "cnn_predictions = cnn.predict_classes(scaled_xtest3d)\n",
    "confusion_matrix = confusion_matrix(ytest, cnn_predictions)\n",
    "sns.heatmap(confusion_matrix, annot=True, fmt=\"d\", cbar = False)\n",
    "plt.title(\"CNN Confusion Matrix\")\n",
    "plt.show()"
   ]
  },
  {
   "cell_type": "code",
   "execution_count": 47,
   "id": "suspended-ranking",
   "metadata": {
    "execution": {
     "iopub.execute_input": "2022-08-31T16:53:03.622976Z",
     "iopub.status.busy": "2022-08-31T16:53:03.621949Z",
     "iopub.status.idle": "2022-08-31T16:53:03.629145Z",
     "shell.execute_reply": "2022-08-31T16:53:03.629773Z",
     "shell.execute_reply.started": "2021-06-06T17:06:05.221279Z"
    },
    "papermill": {
     "duration": 0.165489,
     "end_time": "2022-08-31T16:53:03.629986",
     "exception": false,
     "start_time": "2022-08-31T16:53:03.464497",
     "status": "completed"
    },
    "tags": []
   },
   "outputs": [
    {
     "data": {
      "text/plain": [
       "0.9899888765294772"
      ]
     },
     "execution_count": 47,
     "metadata": {},
     "output_type": "execute_result"
    }
   ],
   "source": [
    "accuracy_score(ytest, cnn_predictions)"
   ]
  },
  {
   "cell_type": "code",
   "execution_count": 48,
   "id": "shaped-campbell",
   "metadata": {
    "execution": {
     "iopub.execute_input": "2022-08-31T16:53:03.944686Z",
     "iopub.status.busy": "2022-08-31T16:53:03.943655Z",
     "iopub.status.idle": "2022-08-31T16:53:03.948231Z",
     "shell.execute_reply": "2022-08-31T16:53:03.948842Z",
     "shell.execute_reply.started": "2021-06-06T17:06:05.234034Z"
    },
    "papermill": {
     "duration": 0.165291,
     "end_time": "2022-08-31T16:53:03.949050",
     "exception": false,
     "start_time": "2022-08-31T16:53:03.783759",
     "status": "completed"
    },
    "tags": []
   },
   "outputs": [],
   "source": [
    "from sklearn.metrics import precision_recall_fscore_support as score"
   ]
  },
  {
   "cell_type": "code",
   "execution_count": 49,
   "id": "judicial-intervention",
   "metadata": {
    "execution": {
     "iopub.execute_input": "2022-08-31T16:53:04.272033Z",
     "iopub.status.busy": "2022-08-31T16:53:04.270983Z",
     "iopub.status.idle": "2022-08-31T16:53:04.281672Z",
     "shell.execute_reply": "2022-08-31T16:53:04.282167Z",
     "shell.execute_reply.started": "2021-06-06T17:06:05.243202Z"
    },
    "papermill": {
     "duration": 0.174407,
     "end_time": "2022-08-31T16:53:04.282382",
     "exception": false,
     "start_time": "2022-08-31T16:53:04.107975",
     "status": "completed"
    },
    "tags": []
   },
   "outputs": [
    {
     "name": "stdout",
     "output_type": "stream",
     "text": [
      "precision: [0.99001248 0.98979592]\n",
      "recall: [0.99874055 0.92380952]\n",
      "fscore: [0.99435737 0.95566502]\n",
      "support: [794 105]\n"
     ]
    }
   ],
   "source": [
    "precision, recall, fscore, support = score(ytest, cnn_predictions)\n",
    "print('precision: {}'.format(precision))\n",
    "print('recall: {}'.format(recall))\n",
    "print('fscore: {}'.format(fscore))\n",
    "print('support: {}'.format(support))"
   ]
  },
  {
   "cell_type": "code",
   "execution_count": null,
   "id": "metallic-screw",
   "metadata": {
    "papermill": {
     "duration": 0.157067,
     "end_time": "2022-08-31T16:53:04.596235",
     "exception": false,
     "start_time": "2022-08-31T16:53:04.439168",
     "status": "completed"
    },
    "tags": []
   },
   "outputs": [],
   "source": []
  }
 ],
 "metadata": {
  "kernelspec": {
   "display_name": "Python 3",
   "language": "python",
   "name": "python3"
  },
  "language_info": {
   "codemirror_mode": {
    "name": "ipython",
    "version": 3
   },
   "file_extension": ".py",
   "mimetype": "text/x-python",
   "name": "python",
   "nbconvert_exporter": "python",
   "pygments_lexer": "ipython3",
   "version": "3.7.10"
  },
  "papermill": {
   "default_parameters": {},
   "duration": 62.132615,
   "end_time": "2022-08-31T16:53:07.164371",
   "environment_variables": {},
   "exception": null,
   "input_path": "__notebook__.ipynb",
   "output_path": "__notebook__.ipynb",
   "parameters": {},
   "start_time": "2022-08-31T16:52:05.031756",
   "version": "2.3.3"
  }
 },
 "nbformat": 4,
 "nbformat_minor": 5
}
